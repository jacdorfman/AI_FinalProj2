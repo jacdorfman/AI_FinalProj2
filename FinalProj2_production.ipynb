{
 "cells": [
  {
   "cell_type": "markdown",
   "id": "5537ccb2",
   "metadata": {},
   "source": [
    "# Production stage: use files 0-6 for model traning"
   ]
  },
  {
   "cell_type": "code",
   "execution_count": 1,
   "id": "bc61dd08",
   "metadata": {},
   "outputs": [
    {
     "name": "stdout",
     "output_type": "stream",
     "text": [
      "data_gathered_at_0.csv\t   data_gathered_at_3.csv  initial_training_data.csv\r\n",
      "data_gathered_at_1.csv\t   data_gathered_at_4.csv  test_data.csv\r\n",
      "data_gathered_at_2.csv\t   data_gathered_at_5.csv  validation_test_data.csv\r\n",
      "data_gathered_at_2_bk.csv  data_gathered_at_6.csv\r\n"
     ]
    }
   ],
   "source": [
    "!ls raw_data\n"
   ]
  },
  {
   "cell_type": "code",
   "execution_count": 2,
   "id": "f6a0c1ce",
   "metadata": {},
   "outputs": [
    {
     "name": "stdout",
     "output_type": "stream",
     "text": [
      "mkdir: cannot create directory ‘accum_data’: File exists\r\n"
     ]
    }
   ],
   "source": [
    "!mkdir accum_data"
   ]
  },
  {
   "cell_type": "code",
   "execution_count": 3,
   "id": "5880c5ed",
   "metadata": {},
   "outputs": [],
   "source": [
    "!cp raw_data/initial_training_data.csv accum_data/accumulated_data.csv\n"
   ]
  },
  {
   "cell_type": "code",
   "execution_count": 5,
   "id": "abee5825",
   "metadata": {},
   "outputs": [
    {
     "name": "stdout",
     "output_type": "stream",
     "text": [
      "total 2620\r\n",
      "-rw-r--r-- 1 root root 2679360 May 30 12:42 accumulated_data.csv\r\n"
     ]
    }
   ],
   "source": [
    "!ls -l accum_data/"
   ]
  },
  {
   "cell_type": "code",
   "execution_count": 6,
   "id": "ed0dfa35",
   "metadata": {},
   "outputs": [],
   "source": [
    "import pandas as pd\n",
    "import numpy as np\n",
    "import os\n",
    "\n",
    "from tensorflow.keras import models\n",
    "from tensorflow.keras.layers import Dense, Dropout, Flatten, Conv2D, MaxPool2D\n",
    "from tensorflow.keras.optimizers import RMSprop,Adam\n",
    "from tensorflow.keras.utils import to_categorical\n",
    "\n",
    "\n",
    "raw_data_path = 'raw_data/'\n",
    "accum_data_path = 'accum_data/'\n",
    "accum_file_name = accum_data_path+'accumulated_data.csv'\n",
    "\n",
    "def create_model():\n",
    "    model = models.Sequential()\n",
    "    model.add(Conv2D(32, (3, 3), activation='relu', input_shape=(48, 48, 1)))\n",
    "    model.add(MaxPool2D((2, 2)))\n",
    "    model.add(Conv2D(64, (3, 3), activation='relu'))\n",
    "    model.add(MaxPool2D((2, 2)))\n",
    "    model.add(Conv2D(64, (3, 3), activation='relu'))\n",
    "    model.add(Flatten())\n",
    "    model.add(Dense(64, activation='relu'))\n",
    "    model.add(Dense(7, activation='softmax'))\n",
    "    model.compile(optimizer=Adam(lr=1e-3), loss='categorical_crossentropy', metrics=['accuracy'])\n",
    "    return model\n",
    "\n",
    "\n",
    "def prepare_data(data):\n",
    "    \"\"\" Prepare data for modeling \n",
    "        input: data frame with labels und pixel data\n",
    "        output: image and label array \"\"\"\n",
    "    \n",
    "    image_array = np.zeros(shape=(len(data), 48, 48))\n",
    "    image_label = np.array(list(map(int, data['Emotion'])))\n",
    "    \n",
    "    for i, row in enumerate(data.index):\n",
    "        image = np.fromstring(data.loc[row, 'Pixels'], dtype=int, sep=' ')\n",
    "        image = np.reshape(image, (48, 48))\n",
    "        image_array[i] = image\n",
    "        \n",
    "    return image_array, image_label\n",
    "\n",
    "\n",
    "def data_to_tf_data(df):\n",
    "    image_array, image_label = prepare_data(df)\n",
    "    images = image_array.reshape((image_array.shape[0], 48, 48, 1))\n",
    "    images = images.astype('float32')/255\n",
    "    labels = to_categorical(image_label)\n",
    "    return images, labels\n"
   ]
  },
  {
   "cell_type": "code",
   "execution_count": 7,
   "id": "6c2c9444",
   "metadata": {},
   "outputs": [],
   "source": [
    "def add_to_accum_data(nmb):\n",
    "    accum_data = pd.read_csv(accum_file_name)\n",
    "    next_data_file = raw_data_path+'data_gathered_at_' + str(nmb)+'.csv'\n",
    "    add_data = pd.read_csv(next_data_file)\n",
    "    accum_data = accum_data.append(add_data, ignore_index = True)\n",
    "    accum_data.to_csv(accum_file_name)\n"
   ]
  },
  {
   "cell_type": "code",
   "execution_count": 17,
   "id": "bb862624",
   "metadata": {},
   "outputs": [],
   "source": [
    "nmb = 1\n",
    "add_to_accum_data(nmb)\n"
   ]
  },
  {
   "cell_type": "code",
   "execution_count": 18,
   "id": "ca53161d",
   "metadata": {},
   "outputs": [
    {
     "name": "stderr",
     "output_type": "stream",
     "text": [
      "/opt/conda/lib/python3.8/site-packages/tensorflow/python/keras/optimizer_v2/optimizer_v2.py:374: UserWarning: The `lr` argument is deprecated, use `learning_rate` instead.\n",
      "  warnings.warn(\n"
     ]
    },
    {
     "name": "stdout",
     "output_type": "stream",
     "text": [
      "Epoch 1/12\n",
      "9/9 [==============================] - 4s 424ms/step - loss: 0.3199 - accuracy: 0.2505 - val_loss: 1.8804 - val_accuracy: 0.2449\n",
      "Epoch 2/12\n",
      "9/9 [==============================] - 3s 411ms/step - loss: 0.3024 - accuracy: 0.2635 - val_loss: 1.8988 - val_accuracy: 0.2449\n",
      "Epoch 3/12\n",
      "9/9 [==============================] - 3s 421ms/step - loss: 0.2964 - accuracy: 0.2635 - val_loss: 1.9546 - val_accuracy: 0.2449\n",
      "Epoch 4/12\n",
      "9/9 [==============================] - 3s 392ms/step - loss: 0.2921 - accuracy: 0.2635 - val_loss: 1.8976 - val_accuracy: 0.2449\n",
      "Epoch 5/12\n",
      "9/9 [==============================] - 3s 409ms/step - loss: 0.2916 - accuracy: 0.2635 - val_loss: 1.9475 - val_accuracy: 0.2449\n",
      "Epoch 6/12\n",
      "9/9 [==============================] - 3s 405ms/step - loss: 0.2929 - accuracy: 0.2635 - val_loss: 1.8603 - val_accuracy: 0.2449\n",
      "Epoch 7/12\n",
      "9/9 [==============================] - 3s 413ms/step - loss: 0.2891 - accuracy: 0.2635 - val_loss: 1.9650 - val_accuracy: 0.2449\n",
      "Epoch 8/12\n",
      "9/9 [==============================] - 3s 391ms/step - loss: 0.2870 - accuracy: 0.2635 - val_loss: 1.8551 - val_accuracy: 0.2449\n",
      "Epoch 9/12\n",
      "9/9 [==============================] - 3s 395ms/step - loss: 0.2833 - accuracy: 0.2635 - val_loss: 1.9306 - val_accuracy: 0.2449\n",
      "Epoch 10/12\n",
      "9/9 [==============================] - 3s 401ms/step - loss: 0.2805 - accuracy: 0.2653 - val_loss: 1.9253 - val_accuracy: 0.2455\n",
      "Epoch 11/12\n",
      "9/9 [==============================] - 3s 415ms/step - loss: 0.2727 - accuracy: 0.2839 - val_loss: 1.8495 - val_accuracy: 0.2572\n",
      "Epoch 12/12\n",
      "9/9 [==============================] - 3s 395ms/step - loss: 0.2662 - accuracy: 0.3284 - val_loss: 1.9703 - val_accuracy: 0.2722\n",
      "113/113 [==============================] - 3s 23ms/step - loss: 1.9695 - accuracy: 0.2644\n"
     ]
    }
   ],
   "source": [
    "train = pd.read_csv(accum_file_name)\n",
    "train_images, train_labels = data_to_tf_data(train)\n",
    "\n",
    "val = pd.read_csv(raw_data_path+'validation_test_data.csv')\n",
    "val_images, val_labels = data_to_tf_data(val)\n",
    "\n",
    "\n",
    "model = create_model()\n",
    "class_weight = dict(zip(range(0, 7), (((train['Emotion'].value_counts()).sort_index())/len(train['Emotion'])).tolist()))\n",
    "history = model.fit(train_images, train_labels,\n",
    "                    validation_data=(val_images, val_labels),\n",
    "                    class_weight = class_weight,\n",
    "                    epochs=12,\n",
    "                    batch_size=64)\n",
    "\n",
    "df = pd.read_csv(raw_data_path+'test_data.csv')\n",
    "test_images, test_labels = data_to_tf_data(df)\n",
    "test_loss, test_acc = model.evaluate(test_images, test_labels)"
   ]
  },
  {
   "cell_type": "code",
   "execution_count": 11,
   "id": "4d4f1d90",
   "metadata": {},
   "outputs": [
    {
     "name": "stdout",
     "output_type": "stream",
     "text": [
      "INFO:tensorflow:Assets written to: initial_model/assets\n"
     ]
    }
   ],
   "source": [
    "from tensorflow import keras\n",
    "\n",
    "model.save(\"initial_model\")\n"
   ]
  },
  {
   "cell_type": "code",
   "execution_count": 12,
   "id": "712cd7c2",
   "metadata": {},
   "outputs": [
    {
     "name": "stdout",
     "output_type": "stream",
     "text": [
      "Adding...                                                                       \n",
      "!\u001b[A\n",
      "Computing file/dir hashes (only done once)            |0.00 [00:00,      ?md5/s]\u001b[A\n",
      "                                                                                \u001b[A\n",
      "!\u001b[A\n",
      "                                                      |0.00 [00:00,       ?it/s]\u001b[A\n",
      "                                                                                \u001b[A\n",
      "!\u001b[A\n",
      "  0%|          |Saving files                          0/4 [00:00<?,     ?file/s]\u001b[A\n",
      "                                                                                \u001b[A\n",
      "!\u001b[A\n",
      "  0%|          |.oPt3T5N5yhYqrbVfAjNGGY.tmp           0/1 [00:00<?,       ?it/s]\u001b[A\n",
      "                                                                                \u001b[A\n",
      "!\u001b[A\n",
      "  0%|          |.fqFQgoUXRF38Q4bm9UFg26.tmp     0.00/164k [00:00<?,       ?it/s]\u001b[A\n",
      "                                                                                \u001b[A\n",
      "!\u001b[A\n",
      "  0%|          |.HMLJeamqTmrvkHcTgrkKLr.tmp    0.00/3.83M [00:00<?,       ?it/s]\u001b[A\n",
      "                                                                                \u001b[A\n",
      "!\u001b[A\n",
      "  0%|          |.WA9tNseHZmqz5Bm6RBgvAw.tmp    0.00/2.72k [00:00<?,       ?it/s]\u001b[A\n",
      "100% Add|██████████████████████████████████████████████|1/1 [00:00,  2.09file/s]\u001b[A\n",
      "\n",
      "To track the changes with git, run:\n",
      "\n",
      "\tgit add initial_model.dvc\n",
      "\u001b[0m"
     ]
    }
   ],
   "source": [
    "!dvc add initial_model/\n"
   ]
  },
  {
   "cell_type": "code",
   "execution_count": 13,
   "id": "1b9e999b",
   "metadata": {},
   "outputs": [],
   "source": [
    "!git add initial_model.dvc"
   ]
  },
  {
   "cell_type": "code",
   "execution_count": 14,
   "id": "f9d7a0b0",
   "metadata": {},
   "outputs": [
    {
     "name": "stdout",
     "output_type": "stream",
     "text": [
      "On branch master\r\n",
      "Your branch is ahead of 'origin/master' by 2 commits.\r\n",
      "  (use \"git push\" to publish your local commits)\r\n",
      "\r\n",
      "Changes to be committed:\r\n",
      "  (use \"git reset HEAD <file>...\" to unstage)\r\n",
      "\r\n",
      "\t\u001b[32mmodified:   initial_model.dvc\u001b[m\r\n",
      "\r\n",
      "Changes not staged for commit:\r\n",
      "  (use \"git add <file>...\" to update what will be committed)\r\n",
      "  (use \"git checkout -- <file>...\" to discard changes in working directory)\r\n",
      "\r\n",
      "\t\u001b[31mmodified:   FinalProj2_Initial.ipynb\u001b[m\r\n",
      "\t\u001b[31mmodified:   FinalProj2_production.ipynb\u001b[m\r\n",
      "\r\n",
      "Untracked files:\r\n",
      "  (use \"git add <file>...\" to include in what will be committed)\r\n",
      "\r\n",
      "\t\u001b[31m.ipynb_checkpoints/\u001b[m\r\n",
      "\t\u001b[31mUntitled.ipynb\u001b[m\r\n",
      "\t\u001b[31maccum_data/\u001b[m\r\n",
      "\t\u001b[31mmlruns/\u001b[m\r\n",
      "\r\n"
     ]
    }
   ],
   "source": [
    "!git status"
   ]
  },
  {
   "cell_type": "code",
   "execution_count": 15,
   "id": "b9b20d2a",
   "metadata": {},
   "outputs": [],
   "source": [
    "!git add FinalProj2_Initial.ipynb FinalProj2_production.ipynb"
   ]
  },
  {
   "cell_type": "code",
   "execution_count": 16,
   "id": "a963c314",
   "metadata": {},
   "outputs": [
    {
     "name": "stdout",
     "output_type": "stream",
     "text": [
      "[master d278e62] Model trained wit data at_0\r\n",
      " 3 files changed, 384 insertions(+), 245 deletions(-)\r\n"
     ]
    }
   ],
   "source": [
    "!git commit -m \"Model trained wit data at_0\""
   ]
  }
 ],
 "metadata": {
  "kernelspec": {
   "display_name": "Python 3",
   "language": "python",
   "name": "python3"
  },
  "language_info": {
   "codemirror_mode": {
    "name": "ipython",
    "version": 3
   },
   "file_extension": ".py",
   "mimetype": "text/x-python",
   "name": "python",
   "nbconvert_exporter": "python",
   "pygments_lexer": "ipython3",
   "version": "3.8.5"
  }
 },
 "nbformat": 4,
 "nbformat_minor": 5
}
