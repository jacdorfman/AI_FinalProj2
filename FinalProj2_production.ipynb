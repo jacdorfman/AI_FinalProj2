{
 "cells": [
  {
   "cell_type": "markdown",
   "id": "6114785c",
   "metadata": {},
   "source": [
    "# Production stage: use files 0-6 for model traning"
   ]
  },
  {
   "cell_type": "code",
   "execution_count": 1,
   "id": "55c663a8",
   "metadata": {},
   "outputs": [
    {
     "name": "stdout",
     "output_type": "stream",
     "text": [
      "data_gathered_at_0.csv\t   data_gathered_at_3.csv  initial_training_data.csv\r\n",
      "data_gathered_at_1.csv\t   data_gathered_at_4.csv  test_data.csv\r\n",
      "data_gathered_at_2.csv\t   data_gathered_at_5.csv  validation_test_data.csv\r\n",
      "data_gathered_at_2_bk.csv  data_gathered_at_6.csv\r\n"
     ]
    }
   ],
   "source": [
    "!ls raw_data\n"
   ]
  },
  {
   "cell_type": "code",
   "execution_count": 2,
   "id": "16aac292",
   "metadata": {},
   "outputs": [
    {
     "name": "stdout",
     "output_type": "stream",
     "text": [
      "mkdir: cannot create directory ‘accum_data’: File exists\r\n"
     ]
    }
   ],
   "source": [
    "!mkdir accum_data"
   ]
  },
  {
   "cell_type": "code",
   "execution_count": 3,
   "id": "cd8f3e6f",
   "metadata": {},
   "outputs": [],
   "source": [
    "!cp raw_data/initial_training_data.csv accum_data/accumulated_data.csv\n"
   ]
  },
  {
   "cell_type": "code",
   "execution_count": 5,
   "id": "28115eb0",
   "metadata": {},
   "outputs": [
    {
     "name": "stdout",
     "output_type": "stream",
     "text": [
      "total 2620\r\n",
      "-rw-r--r-- 1 root root 2679360 May 30 12:42 accumulated_data.csv\r\n"
     ]
    }
   ],
   "source": [
    "!ls -l accum_data/"
   ]
  },
  {
   "cell_type": "code",
   "execution_count": 6,
   "id": "4b057da9",
   "metadata": {},
   "outputs": [],
   "source": [
    "import pandas as pd\n",
    "import numpy as np\n",
    "import os\n",
    "\n",
    "from tensorflow.keras import models\n",
    "from tensorflow.keras.layers import Dense, Dropout, Flatten, Conv2D, MaxPool2D\n",
    "from tensorflow.keras.optimizers import RMSprop,Adam\n",
    "from tensorflow.keras.utils import to_categorical\n",
    "\n",
    "\n",
    "raw_data_path = 'raw_data/'\n",
    "accum_data_path = 'accum_data/'\n",
    "accum_file_name = accum_data_path+'accumulated_data.csv'\n",
    "\n",
    "def create_model():\n",
    "    model = models.Sequential()\n",
    "    model.add(Conv2D(32, (3, 3), activation='relu', input_shape=(48, 48, 1)))\n",
    "    model.add(MaxPool2D((2, 2)))\n",
    "    model.add(Conv2D(64, (3, 3), activation='relu'))\n",
    "    model.add(MaxPool2D((2, 2)))\n",
    "    model.add(Conv2D(64, (3, 3), activation='relu'))\n",
    "    model.add(Flatten())\n",
    "    model.add(Dense(64, activation='relu'))\n",
    "    model.add(Dense(7, activation='softmax'))\n",
    "    model.compile(optimizer=Adam(lr=1e-3), loss='categorical_crossentropy', metrics=['accuracy'])\n",
    "    return model\n",
    "\n",
    "\n",
    "def prepare_data(data):\n",
    "    \"\"\" Prepare data for modeling \n",
    "        input: data frame with labels und pixel data\n",
    "        output: image and label array \"\"\"\n",
    "    \n",
    "    image_array = np.zeros(shape=(len(data), 48, 48))\n",
    "    image_label = np.array(list(map(int, data['Emotion'])))\n",
    "    \n",
    "    for i, row in enumerate(data.index):\n",
    "        image = np.fromstring(data.loc[row, 'Pixels'], dtype=int, sep=' ')\n",
    "        image = np.reshape(image, (48, 48))\n",
    "        image_array[i] = image\n",
    "        \n",
    "    return image_array, image_label\n",
    "\n",
    "\n",
    "def data_to_tf_data(df):\n",
    "    image_array, image_label = prepare_data(df)\n",
    "    images = image_array.reshape((image_array.shape[0], 48, 48, 1))\n",
    "    images = images.astype('float32')/255\n",
    "    labels = to_categorical(image_label)\n",
    "    return images, labels\n"
   ]
  },
  {
   "cell_type": "code",
   "execution_count": 7,
   "id": "fc7960c5",
   "metadata": {},
   "outputs": [],
   "source": [
    "def add_to_accum_data(nmb):\n",
    "    accum_data = pd.read_csv(accum_file_name)\n",
    "    next_data_file = raw_data_path+'data_gathered_at_' + str(nmb)+'.csv'\n",
    "    add_data = pd.read_csv(next_data_file)\n",
    "    accum_data = accum_data.append(add_data, ignore_index = True)\n",
    "    accum_data.to_csv(accum_file_name)\n"
   ]
  },
  {
   "cell_type": "code",
   "execution_count": 25,
   "id": "a747f582",
   "metadata": {},
   "outputs": [],
   "source": [
    "nmb = 2\n",
    "add_to_accum_data(nmb)\n"
   ]
  },
  {
   "cell_type": "code",
   "execution_count": 26,
   "id": "20770a41",
   "metadata": {},
   "outputs": [
    {
     "name": "stderr",
     "output_type": "stream",
     "text": [
      "/opt/conda/lib/python3.8/site-packages/tensorflow/python/keras/optimizer_v2/optimizer_v2.py:374: UserWarning: The `lr` argument is deprecated, use `learning_rate` instead.\n",
      "  warnings.warn(\n"
     ]
    },
    {
     "name": "stdout",
     "output_type": "stream",
     "text": [
      "Epoch 1/12\n",
      "10/10 [==============================] - 4s 399ms/step - loss: 0.3050 - accuracy: 0.2582 - val_loss: 1.8601 - val_accuracy: 0.2449\n",
      "Epoch 2/12\n",
      "10/10 [==============================] - 3s 370ms/step - loss: 0.2904 - accuracy: 0.2629 - val_loss: 1.9899 - val_accuracy: 0.2449\n",
      "Epoch 3/12\n",
      "10/10 [==============================] - 4s 380ms/step - loss: 0.2906 - accuracy: 0.2629 - val_loss: 1.9212 - val_accuracy: 0.2449\n",
      "Epoch 4/12\n",
      "10/10 [==============================] - 3s 358ms/step - loss: 0.2877 - accuracy: 0.2629 - val_loss: 1.8787 - val_accuracy: 0.2449\n",
      "Epoch 5/12\n",
      "10/10 [==============================] - 4s 378ms/step - loss: 0.2869 - accuracy: 0.2629 - val_loss: 1.8568 - val_accuracy: 0.2449\n",
      "Epoch 6/12\n",
      "10/10 [==============================] - 4s 381ms/step - loss: 0.2846 - accuracy: 0.2629 - val_loss: 1.8506 - val_accuracy: 0.2449\n",
      "Epoch 7/12\n",
      "10/10 [==============================] - 4s 380ms/step - loss: 0.2831 - accuracy: 0.2629 - val_loss: 1.8875 - val_accuracy: 0.2449\n",
      "Epoch 8/12\n",
      "10/10 [==============================] - 3s 313ms/step - loss: 0.2774 - accuracy: 0.2692 - val_loss: 1.8357 - val_accuracy: 0.2485\n",
      "Epoch 9/12\n",
      "10/10 [==============================] - 1s 150ms/step - loss: 0.2714 - accuracy: 0.2833 - val_loss: 1.8098 - val_accuracy: 0.2931\n",
      "Epoch 10/12\n",
      "10/10 [==============================] - 1s 153ms/step - loss: 0.2656 - accuracy: 0.3114 - val_loss: 1.8306 - val_accuracy: 0.2675\n",
      "Epoch 11/12\n",
      "10/10 [==============================] - 1s 150ms/step - loss: 0.2572 - accuracy: 0.3318 - val_loss: 1.8613 - val_accuracy: 0.2781\n",
      "Epoch 12/12\n",
      "10/10 [==============================] - 1s 152ms/step - loss: 0.2529 - accuracy: 0.3599 - val_loss: 1.7754 - val_accuracy: 0.2800\n",
      "113/113 [==============================] - 1s 8ms/step - loss: 1.7849 - accuracy: 0.2675\n"
     ]
    }
   ],
   "source": [
    "train = pd.read_csv(accum_file_name)\n",
    "train_images, train_labels = data_to_tf_data(train)\n",
    "\n",
    "val = pd.read_csv(raw_data_path+'validation_test_data.csv')\n",
    "val_images, val_labels = data_to_tf_data(val)\n",
    "\n",
    "\n",
    "model = create_model()\n",
    "class_weight = dict(zip(range(0, 7), (((train['Emotion'].value_counts()).sort_index())/len(train['Emotion'])).tolist()))\n",
    "history = model.fit(train_images, train_labels,\n",
    "                    validation_data=(val_images, val_labels),\n",
    "                    class_weight = class_weight,\n",
    "                    epochs=12,\n",
    "                    batch_size=64)\n",
    "\n",
    "df = pd.read_csv(raw_data_path+'test_data.csv')\n",
    "test_images, test_labels = data_to_tf_data(df)\n",
    "test_loss, test_acc = model.evaluate(test_images, test_labels)"
   ]
  },
  {
   "cell_type": "code",
   "execution_count": 27,
   "id": "6de98a86",
   "metadata": {},
   "outputs": [
    {
     "name": "stdout",
     "output_type": "stream",
     "text": [
      "INFO:tensorflow:Assets written to: initial_model/assets\n"
     ]
    }
   ],
   "source": [
    "from tensorflow import keras\n",
    "\n",
    "model.save(\"initial_model\")\n"
   ]
  },
  {
   "cell_type": "code",
   "execution_count": 28,
   "id": "b842c35b",
   "metadata": {},
   "outputs": [
    {
     "name": "stdout",
     "output_type": "stream",
     "text": [
      "Adding...                                                                       \n",
      "!\u001b[A\n",
      "Computing file/dir hashes (only done once)            |0.00 [00:00,      ?md5/s]\u001b[A\n",
      "                                                                                \u001b[A\n",
      "!\u001b[A\n",
      "                                                      |0.00 [00:00,       ?it/s]\u001b[A\n",
      "                                                                                \u001b[A\n",
      "!\u001b[A\n",
      "  0%|          |Saving files                          0/4 [00:00<?,     ?file/s]\u001b[A\n",
      "                                                                                \u001b[A\n",
      "!\u001b[A\n",
      "  0%|          |.Af8L2oTdQAJX7JVL7hch9C.tmp    0.00/17.6k [00:00<?,       ?it/s]\u001b[A\n",
      "                                                                                \u001b[A\n",
      "!\u001b[A\n",
      "  0%|          |.K4YXTsd6EF6yBu88aKBtnH.tmp     0.00/165k [00:00<?,       ?it/s]\u001b[A\n",
      "                                                                                \u001b[A\n",
      "!\u001b[A\n",
      "  0%|          |.EtQAUqoGoUmr7FTZkkcgYQ.tmp    0.00/3.83M [00:00<?,       ?it/s]\u001b[A\n",
      "                                                                                \u001b[A\n",
      "!\u001b[A\n",
      "  0%|          |.STwkzVSgjVK8kZhLhPFMCk.tmp    0.00/2.72k [00:00<?,       ?it/s]\u001b[A\n",
      "100% Add|██████████████████████████████████████████████|1/1 [00:00,  2.50file/s]\u001b[A\n",
      "\n",
      "To track the changes with git, run:\n",
      "\n",
      "\tgit add initial_model.dvc\n",
      "\u001b[0m"
     ]
    }
   ],
   "source": [
    "!dvc add initial_model/\n"
   ]
  },
  {
   "cell_type": "code",
   "execution_count": 29,
   "id": "bd7caa0c",
   "metadata": {},
   "outputs": [],
   "source": [
    "!git add initial_model.dvc"
   ]
  },
  {
   "cell_type": "code",
   "execution_count": 30,
   "id": "f6f337ff",
   "metadata": {},
   "outputs": [
    {
     "name": "stdout",
     "output_type": "stream",
     "text": [
      "On branch master\r\n",
      "Your branch is ahead of 'origin/master' by 4 commits.\r\n",
      "  (use \"git push\" to publish your local commits)\r\n",
      "\r\n",
      "Changes to be committed:\r\n",
      "  (use \"git reset HEAD <file>...\" to unstage)\r\n",
      "\r\n",
      "\t\u001b[32mmodified:   initial_model.dvc\u001b[m\r\n",
      "\r\n",
      "Changes not staged for commit:\r\n",
      "  (use \"git add <file>...\" to update what will be committed)\r\n",
      "  (use \"git checkout -- <file>...\" to discard changes in working directory)\r\n",
      "\r\n",
      "\t\u001b[31mmodified:   FinalProj2_Initial.ipynb\u001b[m\r\n",
      "\t\u001b[31mmodified:   FinalProj2_production.ipynb\u001b[m\r\n",
      "\r\n",
      "Untracked files:\r\n",
      "  (use \"git add <file>...\" to include in what will be committed)\r\n",
      "\r\n",
      "\t\u001b[31m.ipynb_checkpoints/\u001b[m\r\n",
      "\t\u001b[31mUntitled.ipynb\u001b[m\r\n",
      "\t\u001b[31maccum_data/\u001b[m\r\n",
      "\t\u001b[31mmlruns/\u001b[m\r\n",
      "\r\n"
     ]
    }
   ],
   "source": [
    "!git status"
   ]
  },
  {
   "cell_type": "code",
   "execution_count": 31,
   "id": "d9ed2486",
   "metadata": {},
   "outputs": [],
   "source": [
    "!git add FinalProj2_Initial.ipynb FinalProj2_production.ipynb"
   ]
  },
  {
   "cell_type": "code",
   "execution_count": 32,
   "id": "afe50f51",
   "metadata": {},
   "outputs": [
    {
     "name": "stdout",
     "output_type": "stream",
     "text": [
      "[master 4e874b6] Model trained wit data at_2\r\n",
      " 3 files changed, 83 insertions(+), 74 deletions(-)\r\n"
     ]
    }
   ],
   "source": [
    "!git commit -m \"Model trained wit data at_2\""
   ]
  }
 ],
 "metadata": {
  "kernelspec": {
   "display_name": "Python 3",
   "language": "python",
   "name": "python3"
  },
  "language_info": {
   "codemirror_mode": {
    "name": "ipython",
    "version": 3
   },
   "file_extension": ".py",
   "mimetype": "text/x-python",
   "name": "python",
   "nbconvert_exporter": "python",
   "pygments_lexer": "ipython3",
   "version": "3.8.5"
  }
 },
 "nbformat": 4,
 "nbformat_minor": 5
}
