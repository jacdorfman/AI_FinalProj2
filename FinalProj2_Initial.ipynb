{
 "cells": [
  {
   "cell_type": "markdown",
   "id": "0fdcb592",
   "metadata": {},
   "source": [
    "# Jacob Dorfman\n",
    "# Final project 2"
   ]
  },
  {
   "cell_type": "markdown",
   "id": "de2ee597",
   "metadata": {},
   "source": [
    "## Code from train_model.py"
   ]
  },
  {
   "cell_type": "code",
   "execution_count": 10,
   "id": "a57b1b67",
   "metadata": {},
   "outputs": [],
   "source": [
    "import pandas as pd\n",
    "import numpy as np\n",
    "import os\n",
    "\n",
    "from tensorflow.keras import models\n",
    "from tensorflow.keras.layers import Dense, Dropout, Flatten, Conv2D, MaxPool2D\n",
    "from tensorflow.keras.optimizers import RMSprop,Adam\n",
    "from tensorflow.keras.utils import to_categorical\n",
    "\n",
    "\n",
    "raw_data_path = 'raw_data/'\n",
    "\n",
    "def create_model():\n",
    "    model = models.Sequential()\n",
    "    model.add(Conv2D(32, (3, 3), activation='relu', input_shape=(48, 48, 1)))\n",
    "    model.add(MaxPool2D((2, 2)))\n",
    "    model.add(Conv2D(64, (3, 3), activation='relu'))\n",
    "    model.add(MaxPool2D((2, 2)))\n",
    "    model.add(Conv2D(64, (3, 3), activation='relu'))\n",
    "    model.add(Flatten())\n",
    "    model.add(Dense(64, activation='relu'))\n",
    "    model.add(Dense(7, activation='softmax'))\n",
    "    model.compile(optimizer=Adam(lr=1e-3), loss='categorical_crossentropy', metrics=['accuracy'])\n",
    "    return model\n",
    "\n",
    "\n",
    "def prepare_data(data):\n",
    "    \"\"\" Prepare data for modeling \n",
    "        input: data frame with labels und pixel data\n",
    "        output: image and label array \"\"\"\n",
    "    \n",
    "    image_array = np.zeros(shape=(len(data), 48, 48))\n",
    "    image_label = np.array(list(map(int, data['Emotion'])))\n",
    "    \n",
    "    for i, row in enumerate(data.index):\n",
    "        image = np.fromstring(data.loc[row, 'Pixels'], dtype=int, sep=' ')\n",
    "        image = np.reshape(image, (48, 48))\n",
    "        image_array[i] = image\n",
    "        \n",
    "    return image_array, image_label\n",
    "\n",
    "\n",
    "def data_to_tf_data(df):\n",
    "    image_array, image_label = prepare_data(df)\n",
    "    images = image_array.reshape((image_array.shape[0], 48, 48, 1))\n",
    "    images = images.astype('float32')/255\n",
    "    labels = to_categorical(image_label)\n",
    "    return images, labels\n"
   ]
  },
  {
   "cell_type": "markdown",
   "id": "cce3b1ea",
   "metadata": {},
   "source": [
    "## Run initial train and test"
   ]
  },
  {
   "cell_type": "code",
   "execution_count": 11,
   "id": "00e23597",
   "metadata": {},
   "outputs": [
    {
     "name": "stdout",
     "output_type": "stream",
     "text": [
      "WARNING:tensorflow:From /usr/local/lib/python3.8/dist-packages/tensorflow/python/ops/array_ops.py:5043: calling gather (from tensorflow.python.ops.array_ops) with validate_indices is deprecated and will be removed in a future version.\n",
      "Instructions for updating:\n",
      "The `validate_indices` argument has no effect. Indices are always validated on CPU and never validated on GPU.\n"
     ]
    },
    {
     "name": "stderr",
     "output_type": "stream",
     "text": [
      "/usr/local/lib/python3.8/dist-packages/tensorflow/python/keras/optimizer_v2/optimizer_v2.py:374: UserWarning: The `lr` argument is deprecated, use `learning_rate` instead.\n",
      "  warnings.warn(\n"
     ]
    },
    {
     "name": "stdout",
     "output_type": "stream",
     "text": [
      "Epoch 1/12\n",
      "6/6 [==============================] - 2s 254ms/step - loss: 0.3299 - accuracy: 0.2586 - val_loss: 1.9917 - val_accuracy: 0.2449\n",
      "Epoch 2/12\n",
      "6/6 [==============================] - 1s 212ms/step - loss: 0.3110 - accuracy: 0.2835 - val_loss: 1.8542 - val_accuracy: 0.2449\n",
      "Epoch 3/12\n",
      "6/6 [==============================] - 1s 212ms/step - loss: 0.3238 - accuracy: 0.2835 - val_loss: 1.8531 - val_accuracy: 0.2449\n",
      "Epoch 4/12\n",
      "6/6 [==============================] - 1s 210ms/step - loss: 0.3056 - accuracy: 0.2835 - val_loss: 2.0688 - val_accuracy: 0.2449\n",
      "Epoch 5/12\n",
      "6/6 [==============================] - 1s 212ms/step - loss: 0.3013 - accuracy: 0.2835 - val_loss: 2.0192 - val_accuracy: 0.2449\n",
      "Epoch 6/12\n",
      "6/6 [==============================] - 1s 211ms/step - loss: 0.2988 - accuracy: 0.2835 - val_loss: 2.0279 - val_accuracy: 0.2449\n",
      "Epoch 7/12\n",
      "6/6 [==============================] - 1s 209ms/step - loss: 0.2947 - accuracy: 0.2835 - val_loss: 1.9224 - val_accuracy: 0.2449\n",
      "Epoch 8/12\n",
      "6/6 [==============================] - 1s 212ms/step - loss: 0.2945 - accuracy: 0.2835 - val_loss: 1.8912 - val_accuracy: 0.2449\n",
      "Epoch 9/12\n",
      "6/6 [==============================] - 1s 213ms/step - loss: 0.2972 - accuracy: 0.2835 - val_loss: 1.9506 - val_accuracy: 0.2449\n",
      "Epoch 10/12\n",
      "6/6 [==============================] - 1s 213ms/step - loss: 0.3014 - accuracy: 0.2835 - val_loss: 2.1731 - val_accuracy: 0.2449\n",
      "Epoch 11/12\n",
      "6/6 [==============================] - 1s 218ms/step - loss: 0.3044 - accuracy: 0.2835 - val_loss: 1.9387 - val_accuracy: 0.2449\n",
      "Epoch 12/12\n",
      "6/6 [==============================] - 1s 211ms/step - loss: 0.2986 - accuracy: 0.2866 - val_loss: 1.8303 - val_accuracy: 0.2452\n",
      "113/113 [==============================] - 1s 8ms/step - loss: 1.8262 - accuracy: 0.2491\n"
     ]
    }
   ],
   "source": [
    "train = pd.read_csv(raw_data_path+'initial_training_data.csv')\n",
    "train_images, train_labels = data_to_tf_data(train)\n",
    "\n",
    "val = pd.read_csv(raw_data_path+'validation_test_data.csv')\n",
    "val_images, val_labels = data_to_tf_data(val)\n",
    "\n",
    "\n",
    "model = create_model()\n",
    "class_weight = dict(zip(range(0, 7), (((train['Emotion'].value_counts()).sort_index())/len(train['Emotion'])).tolist()))\n",
    "history = model.fit(train_images, train_labels,\n",
    "                    validation_data=(val_images, val_labels),\n",
    "                    class_weight = class_weight,\n",
    "                    epochs=12,\n",
    "                    batch_size=64)\n",
    "\n",
    "df = pd.read_csv(raw_data_path+'test_data.csv')\n",
    "test_images, test_labels = data_to_tf_data(df)\n",
    "test_loss, test_acc = model.evaluate(test_images, test_labels)\n"
   ]
  },
  {
   "cell_type": "markdown",
   "id": "9b25f7fc",
   "metadata": {},
   "source": [
    "## Save model"
   ]
  },
  {
   "cell_type": "code",
   "execution_count": 12,
   "id": "9c19e9d7",
   "metadata": {},
   "outputs": [
    {
     "name": "stdout",
     "output_type": "stream",
     "text": [
      "INFO:tensorflow:Assets written to: initial_model/assets\n"
     ]
    }
   ],
   "source": [
    "from tensorflow import keras\n",
    "\n",
    "model.save(\"initial_model\")\n"
   ]
  },
  {
   "cell_type": "code",
   "execution_count": 13,
   "id": "496cfd27",
   "metadata": {},
   "outputs": [],
   "source": [
    "import os\n",
    "from mlflow import log_metric, log_param, log_artifacts\n",
    "import mlflow\n"
   ]
  },
  {
   "cell_type": "code",
   "execution_count": 14,
   "id": "e72e10f3",
   "metadata": {},
   "outputs": [],
   "source": [
    "mlflow.create_experiment('FinalProj2_initial')\n",
    "mlflow.set_experiment('FinalProj2_initial')"
   ]
  },
  {
   "cell_type": "markdown",
   "id": "1ff90f6d",
   "metadata": {},
   "source": [
    "## GIT and DVC"
   ]
  },
  {
   "cell_type": "code",
   "execution_count": 15,
   "id": "23cfb105",
   "metadata": {},
   "outputs": [
    {
     "name": "stdout",
     "output_type": "stream",
     "text": [
      "Initialized empty Git repository in /home/ubuntu/notebooks/JacobD/JD_FinalProj2/.git/\r\n"
     ]
    }
   ],
   "source": [
    "!git init"
   ]
  },
  {
   "cell_type": "code",
   "execution_count": 16,
   "id": "6e9d6b02",
   "metadata": {},
   "outputs": [
    {
     "name": "stdout",
     "output_type": "stream",
     "text": [
      "Initialized DVC repository.\n",
      "\n",
      "You can now commit the changes to git.\n",
      "\n",
      "\u001b[31m+---------------------------------------------------------------------+\n",
      "\u001b[0m\u001b[31m|\u001b[0m                                                                     \u001b[31m|\u001b[0m\n",
      "\u001b[31m|\u001b[0m        DVC has enabled anonymous aggregate usage analytics.         \u001b[31m|\u001b[0m\n",
      "\u001b[31m|\u001b[0m     Read the analytics documentation (and how to opt-out) here:     \u001b[31m|\u001b[0m\n",
      "\u001b[31m|\u001b[0m             <\u001b[36mhttps://dvc.org/doc/user-guide/analytics\u001b[39m>              \u001b[31m|\u001b[0m\n",
      "\u001b[31m|\u001b[0m                                                                     \u001b[31m|\u001b[0m\n",
      "\u001b[31m+---------------------------------------------------------------------+\n",
      "\u001b[0m\n",
      "\u001b[33mWhat's next?\u001b[39m\n",
      "\u001b[33m------------\u001b[39m\n",
      "- Check out the documentation: <\u001b[36mhttps://dvc.org/doc\u001b[39m>\n",
      "- Get help and share ideas: <\u001b[36mhttps://dvc.org/chat\u001b[39m>\n",
      "- Star us on GitHub: <\u001b[36mhttps://github.com/iterative/dvc\u001b[39m>\n",
      "\u001b[0m"
     ]
    }
   ],
   "source": [
    "!dvc init"
   ]
  },
  {
   "cell_type": "code",
   "execution_count": 22,
   "id": "e0ac3a5f",
   "metadata": {},
   "outputs": [
    {
     "name": "stdout",
     "output_type": "stream",
     "text": [
      "On branch master\r\n",
      "Changes not staged for commit:\r\n",
      "  (use \"git add <file>...\" to update what will be committed)\r\n",
      "  (use \"git restore <file>...\" to discard changes in working directory)\r\n",
      "\t\u001b[31mmodified:   FinalProj2_Initial.ipynb\u001b[m\r\n",
      "\r\n",
      "Untracked files:\r\n",
      "  (use \"git add <file>...\" to include in what will be committed)\r\n",
      "\t\u001b[31m.ipynb_checkpoints/\u001b[m\r\n",
      "\t\u001b[31minitial_model/\u001b[m\r\n",
      "\t\u001b[31mmlruns/\u001b[m\r\n",
      "\t\u001b[31mraw_data/\u001b[m\r\n",
      "\r\n",
      "no changes added to commit (use \"git add\" and/or \"git commit -a\")\r\n"
     ]
    }
   ],
   "source": [
    "!git status"
   ]
  },
  {
   "cell_type": "code",
   "execution_count": 19,
   "id": "f2ba842d",
   "metadata": {},
   "outputs": [
    {
     "name": "stdout",
     "output_type": "stream",
     "text": [
      "[master (root-commit) dd93922] Initialize DVC\r\n",
      " Committer: Ubuntu <ubuntu@ip-172-31-15-107.eu-west-1.compute.internal>\r\n",
      "Your name and email address were configured automatically based\r\n",
      "on your username and hostname. Please check that they are accurate.\r\n",
      "You can suppress this message by setting them explicitly:\r\n",
      "\r\n",
      "    git config --global user.name \"Your Name\"\r\n",
      "    git config --global user.email you@example.com\r\n",
      "\r\n",
      "After doing this, you may fix the identity used for this commit with:\r\n",
      "\r\n",
      "    git commit --amend --reset-author\r\n",
      "\r\n",
      " 9 files changed, 515 insertions(+)\r\n",
      " create mode 100644 .dvc/.gitignore\r\n",
      " create mode 100644 .dvc/config\r\n",
      " create mode 100644 .dvc/plots/confusion.json\r\n",
      " create mode 100644 .dvc/plots/confusion_normalized.json\r\n",
      " create mode 100644 .dvc/plots/default.json\r\n",
      " create mode 100644 .dvc/plots/linear.json\r\n",
      " create mode 100644 .dvc/plots/scatter.json\r\n",
      " create mode 100644 .dvc/plots/smooth.json\r\n",
      " create mode 100644 .dvcignore\r\n"
     ]
    }
   ],
   "source": [
    "!git commit -m \"Initialize DVC\""
   ]
  },
  {
   "cell_type": "code",
   "execution_count": 20,
   "id": "5339b2a9",
   "metadata": {},
   "outputs": [],
   "source": [
    "!git add FinalProj2_Initial.ipynb train_model.py train_model_2.py"
   ]
  },
  {
   "cell_type": "code",
   "execution_count": 21,
   "id": "cfd18477",
   "metadata": {},
   "outputs": [
    {
     "name": "stdout",
     "output_type": "stream",
     "text": [
      "[master 5db1af8] Initial source\r\n",
      " Committer: Ubuntu <ubuntu@ip-172-31-15-107.eu-west-1.compute.internal>\r\n",
      "Your name and email address were configured automatically based\r\n",
      "on your username and hostname. Please check that they are accurate.\r\n",
      "You can suppress this message by setting them explicitly:\r\n",
      "\r\n",
      "    git config --global user.name \"Your Name\"\r\n",
      "    git config --global user.email you@example.com\r\n",
      "\r\n",
      "After doing this, you may fix the identity used for this commit with:\r\n",
      "\r\n",
      "    git commit --amend --reset-author\r\n",
      "\r\n",
      " 3 files changed, 453 insertions(+)\r\n",
      " create mode 100644 FinalProj2_Initial.ipynb\r\n",
      " create mode 100644 train_model.py\r\n",
      " create mode 100644 train_model_2.py\r\n"
     ]
    }
   ],
   "source": [
    "!git commit -m 'Initial source'"
   ]
  },
  {
   "cell_type": "code",
   "execution_count": 23,
   "id": "0cacc79f",
   "metadata": {},
   "outputs": [
    {
     "name": "stdout",
     "output_type": "stream",
     "text": [
      "Adding...                                                                       \n",
      "!\u001b[A\n",
      "Computing file/dir hashes (only done once)            |0.00 [00:00,      ?md5/s]\u001b[A\n",
      "                                                                                \u001b[A\n",
      "!\u001b[A\n",
      "                                                      |0.00 [00:00,       ?it/s]\u001b[A\n",
      "                                                                                \u001b[A\n",
      "!\u001b[A\n",
      "  0%|          |Saving files                         0/11 [00:00<?,     ?file/s]\u001b[A\n",
      "                                                                                \u001b[A\n",
      "!\u001b[A\n",
      "  0%|          |.TXpddg9YwHnw697X7sN64b.tmp     0.00/776k [00:00<?,       ?it/s]\u001b[A\n",
      "                                                                                \u001b[A\n",
      "!\u001b[A\n",
      "  0%|          |.XSfwHJCDaLzW4owMr9Syym.tmp    0.00/1.04M [00:00<?,       ?it/s]\u001b[A\n",
      "                                                                                \u001b[A\n",
      "!\u001b[A\n",
      "  0%|          |.FMuakTNyTjMgswto2gKSkt.tmp     0.00/697k [00:00<?,       ?it/s]\u001b[A\n",
      "                                                                                \u001b[A\n",
      "!\u001b[A\n",
      "  0%|          |.ESVZXuEYLmG3sohhXjcpgk.tmp     0.00/827k [00:00<?,       ?it/s]\u001b[A\n",
      "                                                                                \u001b[A\n",
      "!\u001b[A\n",
      "  0%|          |.ZsvcFKQw9bPnF78JeyC6MA.tmp     0.00/909k [00:00<?,       ?it/s]\u001b[A\n",
      "                                                                                \u001b[A\n",
      "!\u001b[A\n",
      "  0%|          |.KyUdniiLkGqfbmUkKPLEoi.tmp     0.00/938k [00:00<?,       ?it/s]\u001b[A\n",
      "                                                                                \u001b[A\n",
      "!\u001b[A\n",
      "  0%|          |.jnfuTmb4dbaoatpCFKn2KL.tmp    0.00/1.03M [00:00<?,       ?it/s]\u001b[A\n",
      "                                                                                \u001b[A\n",
      "!\u001b[A\n",
      "  0%|          |.2V8gUX5gphz3pWun6NVG8A.tmp     0.00/819k [00:00<?,       ?it/s]\u001b[A\n",
      "                                                                                \u001b[A\n",
      "!\u001b[A\n",
      "  0%|          |.GbpP5BMrYWX4kEKEZcFg2h.tmp    0.00/2.68M [00:00<?,       ?it/s]\u001b[A\n",
      "                                                                                \u001b[A\n",
      "!\u001b[A\n",
      "  0%|          |.34gopQ65JVwByCjHQEzRyu.tmp    0.00/30.1M [00:00<?,       ?it/s]\u001b[A\n",
      "                                                                                \u001b[A\n",
      "!\u001b[A\n",
      "  0%|          |.8XMPLjvhGX7s9zt6Gw294p.tmp    0.00/30.1M [00:00<?,       ?it/s]\u001b[A\n",
      "100% Add|██████████████████████████████████████████████|1/1 [00:00,  1.50file/s]\u001b[A\n",
      "\n",
      "To track the changes with git, run:\n",
      "\n",
      "\tgit add .gitignore raw_data.dvc\n",
      "\u001b[0m"
     ]
    }
   ],
   "source": [
    "!dvc add raw_data/"
   ]
  },
  {
   "cell_type": "code",
   "execution_count": 24,
   "id": "688eeeda",
   "metadata": {},
   "outputs": [],
   "source": [
    "!git add .gitignore raw_data.dvc"
   ]
  },
  {
   "cell_type": "code",
   "execution_count": 25,
   "id": "2665cfcd",
   "metadata": {},
   "outputs": [
    {
     "name": "stdout",
     "output_type": "stream",
     "text": [
      "Adding...                                                                       \n",
      "!\u001b[A\n",
      "Computing file/dir hashes (only done once)            |0.00 [00:00,      ?md5/s]\u001b[A\n",
      "                                                                                \u001b[A\n",
      "!\u001b[A\n",
      "                                                      |0.00 [00:00,       ?it/s]\u001b[A\n",
      "                                                                                \u001b[A\n",
      "!\u001b[A\n",
      "  0%|          |Saving files                          0/4 [00:00<?,     ?file/s]\u001b[A\n",
      "                                                                                \u001b[A\n",
      "!\u001b[A\n",
      "  0%|          |.UmKDAu5anQxxBbGNqhZ54U.tmp    0.00/17.6k [00:00<?,       ?it/s]\u001b[A\n",
      "                                                                                \u001b[A\n",
      "!\u001b[A\n",
      "  0%|          |.FgdRrNFoxWkTUxagEbaRPZ.tmp     0.00/164k [00:00<?,       ?it/s]\u001b[A\n",
      "                                                                                \u001b[A\n",
      "!\u001b[A\n",
      "  0%|          |.h5ULS2kGJJNmYMg3rfpEqu.tmp    0.00/3.83M [00:00<?,       ?it/s]\u001b[A\n",
      "                                                                                \u001b[A\n",
      "!\u001b[A\n",
      "  0%|          |.E6eGAHx7ZmjfpkPzCsVSDe.tmp    0.00/2.72k [00:00<?,       ?it/s]\u001b[A\n",
      "100% Add|██████████████████████████████████████████████|1/1 [00:00,  2.17file/s]\u001b[A\n",
      "\n",
      "To track the changes with git, run:\n",
      "\n",
      "\tgit add .gitignore initial_model.dvc\n",
      "\u001b[0m"
     ]
    }
   ],
   "source": [
    "!dvc add initial_model/"
   ]
  },
  {
   "cell_type": "code",
   "execution_count": 26,
   "id": "c3e93bd4",
   "metadata": {},
   "outputs": [],
   "source": [
    "!git add .gitignore initial_model.dvc"
   ]
  },
  {
   "cell_type": "markdown",
   "id": "f12a43ca",
   "metadata": {},
   "source": [
    "## Create docker"
   ]
  },
  {
   "cell_type": "code",
   "execution_count": 28,
   "id": "10a7d5e2",
   "metadata": {},
   "outputs": [
    {
     "name": "stdout",
     "output_type": "stream",
     "text": [
      "/home/ubuntu/notebooks/JacobD/JD_FinalProj2\r\n"
     ]
    }
   ],
   "source": [
    "!pwd"
   ]
  },
  {
   "cell_type": "code",
   "execution_count": null,
   "id": "0c17a9f2",
   "metadata": {},
   "outputs": [
    {
     "name": "stdout",
     "output_type": "stream",
     "text": [
      "Collecting package metadata (current_repodata.json): ...working... done\n",
      "Solving environment: ...working... failed with initial frozen solve. Retrying with flexible solve.\n",
      "Solving environment: ...working... failed with repodata from current_repodata.json, will retry with next repodata source.\n",
      "Collecting package metadata (repodata.json): ...working... done\n",
      "Solving environment: ...working... done\n",
      "\n",
      "## Package Plan ##\n",
      "\n",
      "  environment location: /opt/conda\n",
      "\n",
      "  added / updated specs:\n",
      "    - jupyter\n",
      "\n",
      "\n",
      "The following packages will be downloaded:\n",
      "\n",
      "    package                    |            build\n",
      "    ---------------------------|-----------------\n",
      "    argon2-cffi-20.1.0         |   py38h27cfd23_1          46 KB\n",
      "    async_generator-1.10       |     pyhd3eb1b0_0          23 KB\n",
      "    attrs-21.2.0               |     pyhd3eb1b0_0          46 KB\n",
      "    backcall-0.2.0             |     pyhd3eb1b0_0          13 KB\n",
      "    bleach-3.3.0               |     pyhd3eb1b0_0         113 KB\n",
      "    ca-certificates-2021.5.25  |       h06a4308_1         112 KB\n",
      "    certifi-2020.12.5          |   py38h06a4308_0         141 KB\n",
      "    conda-4.10.1               |   py38h06a4308_1         2.9 MB\n",
      "    dbus-1.13.18               |       hb2f20db_0         504 KB\n",
      "    decorator-5.0.9            |     pyhd3eb1b0_0          12 KB\n",
      "    defusedxml-0.7.1           |     pyhd3eb1b0_0          23 KB\n",
      "    entrypoints-0.3            |           py38_0          10 KB\n",
      "    expat-2.4.1                |       h2531618_2         168 KB\n",
      "    fontconfig-2.13.1          |       h6c09931_0         250 KB\n",
      "    freetype-2.10.4            |       h5ab3b9f_0         596 KB\n",
      "    glib-2.68.2                |       h36276a3_0         3.0 MB\n",
      "    gst-plugins-base-1.14.0    |       h8213a91_2         4.9 MB\n",
      "    gstreamer-1.14.0           |       h28cd5cc_2         3.2 MB\n",
      "    icu-58.2                   |       he6710b0_3        10.5 MB\n",
      "    importlib-metadata-3.10.0  |   py38h06a4308_0          33 KB\n",
      "    importlib_metadata-3.10.0  |       hd3eb1b0_0          11 KB\n",
      "    ipykernel-5.3.4            |   py38h5ca1d4c_0         183 KB\n",
      "    ipython-7.22.0             |   py38hb070fc8_0         982 KB\n",
      "    ipython_genutils-0.2.0     |     pyhd3eb1b0_1          27 KB\n",
      "    ipywidgets-7.6.3           |     pyhd3eb1b0_1         105 KB\n",
      "    jedi-0.17.0                |           py38_0         780 KB\n",
      "    jinja2-3.0.0               |     pyhd3eb1b0_0         106 KB\n",
      "    jpeg-9b                    |       h024ee3a_2         214 KB\n",
      "    jsonschema-3.2.0           |             py_2          47 KB\n",
      "    jupyter-1.0.0              |           py38_7           7 KB\n",
      "    jupyter_client-6.1.12      |     pyhd3eb1b0_0          88 KB\n",
      "    jupyter_console-6.4.0      |     pyhd3eb1b0_0          23 KB\n",
      "    jupyter_core-4.7.1         |   py38h06a4308_0          68 KB\n",
      "    jupyterlab_pygments-0.1.2  |             py_0           8 KB\n",
      "    jupyterlab_widgets-1.0.0   |     pyhd3eb1b0_1         109 KB\n",
      "    libpng-1.6.37              |       hbc83047_0         278 KB\n",
      "    libsodium-1.0.18           |       h7b6447c_0         244 KB\n",
      "    libuuid-1.0.3              |       h1bed415_2          15 KB\n",
      "    libxcb-1.14                |       h7b6447c_0         505 KB\n",
      "    libxml2-2.9.10             |       hb55368b_3         1.2 MB\n",
      "    markupsafe-2.0.1           |   py38h27cfd23_0          22 KB\n",
      "    mistune-0.8.4              |py38h7b6447c_1000          55 KB\n",
      "    nbclient-0.5.3             |     pyhd3eb1b0_0          62 KB\n",
      "    nbconvert-6.0.7            |           py38_0         481 KB\n",
      "    nbformat-5.1.3             |     pyhd3eb1b0_0          44 KB\n",
      "    nest-asyncio-1.5.1         |     pyhd3eb1b0_0          10 KB\n",
      "    notebook-6.4.0             |   py38h06a4308_0         4.1 MB\n",
      "    openssl-1.1.1k             |       h27cfd23_0         2.5 MB\n",
      "    packaging-20.9             |     pyhd3eb1b0_0          37 KB\n",
      "    pandoc-2.12                |       h06a4308_0         9.5 MB\n",
      "    pandocfilters-1.4.3        |   py38h06a4308_1          14 KB\n",
      "    parso-0.8.2                |     pyhd3eb1b0_0          69 KB\n",
      "    pcre-8.44                  |       he6710b0_0         212 KB\n",
      "    pexpect-4.8.0              |     pyhd3eb1b0_3          53 KB\n",
      "    pickleshare-0.7.5          |  pyhd3eb1b0_1003          13 KB\n",
      "    prometheus_client-0.10.1   |     pyhd3eb1b0_0          46 KB\n",
      "    prompt-toolkit-3.0.17      |     pyh06a4308_0         256 KB\n",
      "    prompt_toolkit-3.0.17      |       hd3eb1b0_0          12 KB\n",
      "    ptyprocess-0.7.0           |     pyhd3eb1b0_2          17 KB\n",
      "    pygments-2.9.0             |     pyhd3eb1b0_0         721 KB\n",
      "    pyparsing-2.4.7            |     pyhd3eb1b0_0          59 KB\n",
      "    pyqt-5.9.2                 |   py38h05f1152_4         4.5 MB\n",
      "    pyrsistent-0.17.3          |   py38h7b6447c_0          90 KB\n",
      "    python-dateutil-2.8.1      |     pyhd3eb1b0_0         221 KB\n",
      "    pyzmq-20.0.0               |   py38h2531618_1         447 KB\n",
      "    qt-5.9.7                   |       h5867ecd_1        68.5 MB\n",
      "    qtconsole-5.0.3            |     pyhd3eb1b0_0          97 KB\n",
      "    qtpy-1.9.0                 |             py_0          38 KB\n",
      "    send2trash-1.5.0           |     pyhd3eb1b0_1          14 KB\n",
      "    sip-4.19.13                |   py38he6710b0_0         277 KB\n",
      "    terminado-0.9.4            |   py38h06a4308_0          25 KB\n",
      "    testpath-0.4.4             |     pyhd3eb1b0_0          85 KB\n",
      "    tornado-6.1                |   py38h27cfd23_0         588 KB\n",
      "    traitlets-5.0.5            |     pyhd3eb1b0_0          81 KB\n",
      "    wcwidth-0.2.5              |             py_0          29 KB\n",
      "    webencodings-0.5.1         |           py38_1          20 KB\n",
      "    widgetsnbextension-3.5.1   |           py38_0         866 KB\n",
      "    zeromq-4.3.4               |       h2531618_0         331 KB\n",
      "    zipp-3.4.1                 |     pyhd3eb1b0_0          15 KB\n",
      "    ------------------------------------------------------------\n",
      "                                           Total:       125.7 MB\n",
      "\n",
      "The following NEW packages will be INSTALLED:\n",
      "\n",
      "  argon2-cffi        pkgs/main/linux-64::argon2-cffi-20.1.0-py38h27cfd23_1\n",
      "  async_generator    pkgs/main/noarch::async_generator-1.10-pyhd3eb1b0_0\n",
      "  attrs              pkgs/main/noarch::attrs-21.2.0-pyhd3eb1b0_0\n",
      "  backcall           pkgs/main/noarch::backcall-0.2.0-pyhd3eb1b0_0\n",
      "  bleach             pkgs/main/noarch::bleach-3.3.0-pyhd3eb1b0_0\n",
      "  dbus               pkgs/main/linux-64::dbus-1.13.18-hb2f20db_0\n",
      "  decorator          pkgs/main/noarch::decorator-5.0.9-pyhd3eb1b0_0\n",
      "  defusedxml         pkgs/main/noarch::defusedxml-0.7.1-pyhd3eb1b0_0\n",
      "  entrypoints        pkgs/main/linux-64::entrypoints-0.3-py38_0\n",
      "  expat              pkgs/main/linux-64::expat-2.4.1-h2531618_2\n",
      "  fontconfig         pkgs/main/linux-64::fontconfig-2.13.1-h6c09931_0\n",
      "  freetype           pkgs/main/linux-64::freetype-2.10.4-h5ab3b9f_0\n",
      "  glib               pkgs/main/linux-64::glib-2.68.2-h36276a3_0\n",
      "  gst-plugins-base   pkgs/main/linux-64::gst-plugins-base-1.14.0-h8213a91_2\n",
      "  gstreamer          pkgs/main/linux-64::gstreamer-1.14.0-h28cd5cc_2\n",
      "  icu                pkgs/main/linux-64::icu-58.2-he6710b0_3\n",
      "  importlib-metadata pkgs/main/linux-64::importlib-metadata-3.10.0-py38h06a4308_0\n",
      "  importlib_metadata pkgs/main/noarch::importlib_metadata-3.10.0-hd3eb1b0_0\n",
      "  ipykernel          pkgs/main/linux-64::ipykernel-5.3.4-py38h5ca1d4c_0\n",
      "  ipython            pkgs/main/linux-64::ipython-7.22.0-py38hb070fc8_0\n",
      "  ipython_genutils   pkgs/main/noarch::ipython_genutils-0.2.0-pyhd3eb1b0_1\n",
      "  ipywidgets         pkgs/main/noarch::ipywidgets-7.6.3-pyhd3eb1b0_1\n",
      "  jedi               pkgs/main/linux-64::jedi-0.17.0-py38_0\n",
      "  jinja2             pkgs/main/noarch::jinja2-3.0.0-pyhd3eb1b0_0\n",
      "  jpeg               pkgs/main/linux-64::jpeg-9b-h024ee3a_2\n",
      "  jsonschema         pkgs/main/noarch::jsonschema-3.2.0-py_2\n",
      "  jupyter            pkgs/main/linux-64::jupyter-1.0.0-py38_7\n",
      "  jupyter_client     pkgs/main/noarch::jupyter_client-6.1.12-pyhd3eb1b0_0\n",
      "  jupyter_console    pkgs/main/noarch::jupyter_console-6.4.0-pyhd3eb1b0_0\n",
      "  jupyter_core       pkgs/main/linux-64::jupyter_core-4.7.1-py38h06a4308_0\n",
      "  jupyterlab_pygmen~ pkgs/main/noarch::jupyterlab_pygments-0.1.2-py_0\n",
      "  jupyterlab_widgets pkgs/main/noarch::jupyterlab_widgets-1.0.0-pyhd3eb1b0_1\n",
      "  libpng             pkgs/main/linux-64::libpng-1.6.37-hbc83047_0\n",
      "  libsodium          pkgs/main/linux-64::libsodium-1.0.18-h7b6447c_0\n",
      "  libuuid            pkgs/main/linux-64::libuuid-1.0.3-h1bed415_2\n",
      "  libxcb             pkgs/main/linux-64::libxcb-1.14-h7b6447c_0\n",
      "  libxml2            pkgs/main/linux-64::libxml2-2.9.10-hb55368b_3\n",
      "  markupsafe         pkgs/main/linux-64::markupsafe-2.0.1-py38h27cfd23_0\n",
      "  mistune            pkgs/main/linux-64::mistune-0.8.4-py38h7b6447c_1000\n",
      "  nbclient           pkgs/main/noarch::nbclient-0.5.3-pyhd3eb1b0_0\n",
      "  nbconvert          pkgs/main/linux-64::nbconvert-6.0.7-py38_0\n",
      "  nbformat           pkgs/main/noarch::nbformat-5.1.3-pyhd3eb1b0_0\n",
      "  nest-asyncio       pkgs/main/noarch::nest-asyncio-1.5.1-pyhd3eb1b0_0\n",
      "  notebook           pkgs/main/linux-64::notebook-6.4.0-py38h06a4308_0\n",
      "  packaging          pkgs/main/noarch::packaging-20.9-pyhd3eb1b0_0\n",
      "  pandoc             pkgs/main/linux-64::pandoc-2.12-h06a4308_0\n",
      "  pandocfilters      pkgs/main/linux-64::pandocfilters-1.4.3-py38h06a4308_1\n",
      "  parso              pkgs/main/noarch::parso-0.8.2-pyhd3eb1b0_0\n",
      "  pcre               pkgs/main/linux-64::pcre-8.44-he6710b0_0\n",
      "  pexpect            pkgs/main/noarch::pexpect-4.8.0-pyhd3eb1b0_3\n",
      "  pickleshare        pkgs/main/noarch::pickleshare-0.7.5-pyhd3eb1b0_1003\n",
      "  prometheus_client  pkgs/main/noarch::prometheus_client-0.10.1-pyhd3eb1b0_0\n",
      "  prompt-toolkit     pkgs/main/noarch::prompt-toolkit-3.0.17-pyh06a4308_0\n",
      "  prompt_toolkit     pkgs/main/noarch::prompt_toolkit-3.0.17-hd3eb1b0_0\n",
      "  ptyprocess         pkgs/main/noarch::ptyprocess-0.7.0-pyhd3eb1b0_2\n",
      "  pygments           pkgs/main/noarch::pygments-2.9.0-pyhd3eb1b0_0\n",
      "  pyparsing          pkgs/main/noarch::pyparsing-2.4.7-pyhd3eb1b0_0\n",
      "  pyqt               pkgs/main/linux-64::pyqt-5.9.2-py38h05f1152_4\n",
      "  pyrsistent         pkgs/main/linux-64::pyrsistent-0.17.3-py38h7b6447c_0\n",
      "  python-dateutil    pkgs/main/noarch::python-dateutil-2.8.1-pyhd3eb1b0_0\n",
      "  pyzmq              pkgs/main/linux-64::pyzmq-20.0.0-py38h2531618_1\n",
      "  qt                 pkgs/main/linux-64::qt-5.9.7-h5867ecd_1\n",
      "  qtconsole          pkgs/main/noarch::qtconsole-5.0.3-pyhd3eb1b0_0\n",
      "  qtpy               pkgs/main/noarch::qtpy-1.9.0-py_0\n",
      "  send2trash         pkgs/main/noarch::send2trash-1.5.0-pyhd3eb1b0_1\n",
      "  sip                pkgs/main/linux-64::sip-4.19.13-py38he6710b0_0\n",
      "  terminado          pkgs/main/linux-64::terminado-0.9.4-py38h06a4308_0\n",
      "  testpath           pkgs/main/noarch::testpath-0.4.4-pyhd3eb1b0_0\n",
      "  tornado            pkgs/main/linux-64::tornado-6.1-py38h27cfd23_0\n",
      "  traitlets          pkgs/main/noarch::traitlets-5.0.5-pyhd3eb1b0_0\n",
      "  wcwidth            pkgs/main/noarch::wcwidth-0.2.5-py_0\n",
      "  webencodings       pkgs/main/linux-64::webencodings-0.5.1-py38_1\n",
      "  widgetsnbextension pkgs/main/linux-64::widgetsnbextension-3.5.1-py38_0\n",
      "  zeromq             pkgs/main/linux-64::zeromq-4.3.4-h2531618_0\n",
      "  zipp               pkgs/main/noarch::zipp-3.4.1-pyhd3eb1b0_0\n",
      "\n",
      "The following packages will be UPDATED:\n",
      "\n",
      "  ca-certificates                              2020.10.14-0 --> 2021.5.25-h06a4308_1\n",
      "  certifi            pkgs/main/noarch::certifi-2020.6.20-p~ --> pkgs/main/linux-64::certifi-2020.12.5-py38h06a4308_0\n",
      "  conda                                4.9.2-py38h06a4308_0 --> 4.10.1-py38h06a4308_1\n",
      "  openssl                                 1.1.1h-h7b6447c_0 --> 1.1.1k-h27cfd23_0\n",
      "\n",
      "\n"
     ]
    },
    {
     "name": "stdout",
     "output_type": "stream",
     "text": [
      "Preparing transaction: ...working... done\n",
      "Verifying transaction: ...working... done\n",
      "Executing transaction: ...working... done\n",
      "\u001b[32m[I 09:47:50.577 NotebookApp]\u001b(B\u001b[m Writing notebook server cookie secret to /root/.local/share/jupyter/runtime/notebook_cookie_secret\n",
      "\u001b[33m[W 09:47:50.795 NotebookApp]\u001b(B\u001b[m WARNING: The notebook server is listening on all IP addresses and not using encryption. This is not recommended.\n",
      "\u001b[32m[I 09:47:50.797 NotebookApp]\u001b(B\u001b[m Serving notebooks from local directory: /opt/notebooks\n",
      "\u001b[32m[I 09:47:50.797 NotebookApp]\u001b(B\u001b[m Jupyter Notebook 6.4.0 is running at:\n",
      "\u001b[32m[I 09:47:50.797 NotebookApp]\u001b(B\u001b[m http://fd0aebf1446b:8886/?token=79deedc51954418288bcfccca5b000d63940c2d1865193fb\n",
      "\u001b[32m[I 09:47:50.797 NotebookApp]\u001b(B\u001b[m  or http://127.0.0.1:8886/?token=79deedc51954418288bcfccca5b000d63940c2d1865193fb\n",
      "\u001b[32m[I 09:47:50.797 NotebookApp]\u001b(B\u001b[m Use Control-C to stop this server and shut down all kernels (twice to skip confirmation).\n",
      "\u001b[35m[C 09:47:50.801 NotebookApp]\u001b(B\u001b[m \n",
      "    \n",
      "    To access the notebook, open this file in a browser:\n",
      "        file:///root/.local/share/jupyter/runtime/nbserver-1-open.html\n",
      "    Or copy and paste one of these URLs:\n",
      "        http://fd0aebf1446b:8886/?token=79deedc51954418288bcfccca5b000d63940c2d1865193fb\n",
      "     or http://127.0.0.1:8886/?token=79deedc51954418288bcfccca5b000d63940c2d1865193fb\n",
      "\u001b[32m[I 09:48:23.407 NotebookApp]\u001b(B\u001b[m 302 GET /?token=79deedc51954418288bcfccca5b000d63940c2d1865193fb (94.159.199.49) 0.600000ms\n",
      "\u001b[32m[I 09:48:33.658 NotebookApp]\u001b(B\u001b[m Writing notebook-signing key to /root/.local/share/jupyter/notebook_secret\n",
      "\u001b[33m[W 09:48:33.659 NotebookApp]\u001b(B\u001b[m Notebook data/FinalProj2_Initial.ipynb is not trusted\n",
      "\u001b[32m[I 09:48:34.210 NotebookApp]\u001b(B\u001b[m Kernel started: 99288054-72b1-409b-8180-3ac2aa484abe, name: python3\n",
      "\u001b[32m[I 09:48:58.855 NotebookApp]\u001b(B\u001b[m Creating new notebook in /data\n",
      "\u001b[32m[I 09:49:00.062 NotebookApp]\u001b(B\u001b[m Kernel started: 5f263f11-8488-45aa-9536-75c7ef32b62b, name: python3\n",
      "\u001b[32m[I 09:51:00.646 NotebookApp]\u001b(B\u001b[m Saving file at /data/Untitled.ipynb\n",
      "\u001b[32m[I 09:51:36.635 NotebookApp]\u001b(B\u001b[m Starting buffering for 99288054-72b1-409b-8180-3ac2aa484abe:fb4a1e57ebff4509832f303d3bc55c65\n",
      "\u001b[33m[W 09:51:37.136 NotebookApp]\u001b(B\u001b[m Notebook data/FinalProj2_Initial.ipynb is not trusted\n",
      "\u001b[32m[I 09:53:00.232 NotebookApp]\u001b(B\u001b[m Saving file at /data/Untitled.ipynb\n",
      "\u001b[32m[I 09:55:00.399 NotebookApp]\u001b(B\u001b[m Saving file at /data/Untitled.ipynb\n",
      "2021-05-30 09:55:11.635425: W tensorflow/stream_executor/platform/default/dso_loader.cc:64] Could not load dynamic library 'libcudart.so.11.0'; dlerror: libcudart.so.11.0: cannot open shared object file: No such file or directory\n",
      "2021-05-30 09:55:11.635472: I tensorflow/stream_executor/cuda/cudart_stub.cc:29] Ignore above cudart dlerror if you do not have a GPU set up on your machine.\n",
      "2021-05-30 09:55:20.184898: W tensorflow/stream_executor/platform/default/dso_loader.cc:64] Could not load dynamic library 'libcuda.so.1'; dlerror: libcuda.so.1: cannot open shared object file: No such file or directory\n",
      "2021-05-30 09:55:20.184947: W tensorflow/stream_executor/cuda/cuda_driver.cc:326] failed call to cuInit: UNKNOWN ERROR (303)\n",
      "2021-05-30 09:55:20.184978: I tensorflow/stream_executor/cuda/cuda_diagnostics.cc:156] kernel driver does not appear to be running on this host (fd0aebf1446b): /proc/driver/nvidia/version does not exist\n",
      "2021-05-30 09:55:20.185202: I tensorflow/core/platform/cpu_feature_guard.cc:142] This TensorFlow binary is optimized with oneAPI Deep Neural Network Library (oneDNN) to use the following CPU instructions in performance-critical operations:  AVX2 FMA\n",
      "To enable them in other operations, rebuild TensorFlow with the appropriate compiler flags.\n",
      "2021-05-30 09:55:20.312835: I tensorflow/compiler/mlir/mlir_graph_optimization_pass.cc:176] None of the MLIR Optimization Passes are enabled (registered 2)\n",
      "2021-05-30 09:55:20.313295: I tensorflow/core/platform/profile_utils/cpu_utils.cc:114] CPU Frequency: 2400055000 Hz\n",
      "\u001b[32m[I 09:55:50.963 NotebookApp]\u001b(B\u001b[m Saving file at /data/FinalProj2_Initial.ipynb\n",
      "2021-05-30 09:56:16.524491: W tensorflow/python/util/util.cc:348] Sets are not currently considered sequences, but this may change in the future, so consider avoiding using them.\n",
      "\u001b[32m[I 09:57:00.868 NotebookApp]\u001b(B\u001b[m Saving file at /data/Untitled.ipynb\n",
      "\u001b[32m[I 09:57:27.817 NotebookApp]\u001b(B\u001b[m Saving file at /data/FinalProj2_Initial.ipynb\n",
      "\u001b[32m[I 09:58:11.427 NotebookApp]\u001b(B\u001b[m Saving file at /data/FinalProj2_Initial.ipynb\n",
      "\u001b[32m[I 09:58:34.643 NotebookApp]\u001b(B\u001b[m Saving file at /data/FinalProj2_Initial.ipynb\n",
      "\u001b[32m[I 11:00:34.333 NotebookApp]\u001b(B\u001b[m Starting buffering for 5f263f11-8488-45aa-9536-75c7ef32b62b:217b88961e39437980aa23dd064313b8\n",
      "\u001b[32m[I 11:03:17.037 NotebookApp]\u001b(B\u001b[m Saving file at /data/FinalProj2_Initial.ipynb\n",
      "\u001b[32m[I 11:03:59.974 NotebookApp]\u001b(B\u001b[m Creating new notebook in /data\n",
      "\u001b[32m[I 11:04:01.275 NotebookApp]\u001b(B\u001b[m Kernel started: d8a58f79-9162-4327-8ee2-a1d8b01e1ad6, name: python3\n",
      "\u001b[32m[I 11:06:01.463 NotebookApp]\u001b(B\u001b[m Saving file at /data/FinalProj2_production.ipynb\n",
      "\u001b[32m[I 11:17:10.767 NotebookApp]\u001b(B\u001b[m Saving file at /data/FinalProj2_Initial.ipynb\n",
      "\u001b[32m[I 11:18:17.933 NotebookApp]\u001b(B\u001b[m Kernel interrupted: 99288054-72b1-409b-8180-3ac2aa484abe\n",
      "\u001b[32m[I 11:18:59.580 NotebookApp]\u001b(B\u001b[m New terminal with automatic name: 1\n",
      "\u001b[32m[I 11:19:11.597 NotebookApp]\u001b(B\u001b[m Saving file at /data/FinalProj2_Initial.ipynb\n",
      "\u001b[32m[I 11:20:51.797 NotebookApp]\u001b(B\u001b[m New terminal with automatic name: 2\n",
      "\u001b[32m[I 11:23:10.804 NotebookApp]\u001b(B\u001b[m Saving file at /data/FinalProj2_Initial.ipynb\n",
      "\u001b[32m[I 11:25:10.622 NotebookApp]\u001b(B\u001b[m Saving file at /data/FinalProj2_Initial.ipynb\n",
      "\u001b[32m[I 11:27:02.992 NotebookApp]\u001b(B\u001b[m Saving file at /data/FinalProj2_Initial.ipynb\n",
      "\u001b[32m[I 11:27:10.623 NotebookApp]\u001b(B\u001b[m Saving file at /data/FinalProj2_Initial.ipynb\n",
      "\u001b[32m[I 11:28:09.644 NotebookApp]\u001b(B\u001b[m Saving file at /data/FinalProj2_Initial.ipynb\n",
      "\u001b[32m[I 11:28:11.785 NotebookApp]\u001b(B\u001b[m Saving file at /data/FinalProj2_Initial.ipynb\n",
      "\u001b[32m[I 11:30:01.412 NotebookApp]\u001b(B\u001b[m Saving file at /data/FinalProj2_production.ipynb\n",
      "\u001b[32m[I 11:32:01.417 NotebookApp]\u001b(B\u001b[m Saving file at /data/FinalProj2_production.ipynb\n",
      "\u001b[32m[I 11:32:47.692 NotebookApp]\u001b(B\u001b[m Saving file at /data/FinalProj2_production.ipynb\n",
      "\u001b[32m[I 11:33:40.705 NotebookApp]\u001b(B\u001b[m Saving file at /data/FinalProj2_production.ipynb\n",
      "\u001b[32m[I 11:34:01.431 NotebookApp]\u001b(B\u001b[m Saving file at /data/FinalProj2_production.ipynb\n",
      "\u001b[32m[I 11:36:01.412 NotebookApp]\u001b(B\u001b[m Saving file at /data/FinalProj2_production.ipynb\n",
      "\u001b[32m[I 11:38:01.426 NotebookApp]\u001b(B\u001b[m Saving file at /data/FinalProj2_production.ipynb\n",
      "\u001b[32m[I 11:40:01.424 NotebookApp]\u001b(B\u001b[m Saving file at /data/FinalProj2_production.ipynb\n",
      "2021-05-30 11:40:33.245873: W tensorflow/stream_executor/platform/default/dso_loader.cc:64] Could not load dynamic library 'libcudart.so.11.0'; dlerror: libcudart.so.11.0: cannot open shared object file: No such file or directory\n",
      "2021-05-30 11:40:33.245921: I tensorflow/stream_executor/cuda/cudart_stub.cc:29] Ignore above cudart dlerror if you do not have a GPU set up on your machine.\n",
      "\u001b[32m[I 11:41:45.790 NotebookApp]\u001b(B\u001b[m Saving file at /data/FinalProj2_production.ipynb\n",
      "\u001b[32m[I 11:42:01.420 NotebookApp]\u001b(B\u001b[m Saving file at /data/FinalProj2_production.ipynb\n",
      "\u001b[32m[I 11:44:01.394 NotebookApp]\u001b(B\u001b[m Saving file at /data/FinalProj2_production.ipynb\n",
      "\u001b[32m[I 11:46:01.424 NotebookApp]\u001b(B\u001b[m Saving file at /data/FinalProj2_production.ipynb\n",
      "\u001b[32m[I 11:48:01.404 NotebookApp]\u001b(B\u001b[m Saving file at /data/FinalProj2_production.ipynb\n",
      "\u001b[32m[I 11:48:30.152 NotebookApp]\u001b(B\u001b[m Saving file at /data/FinalProj2_production.ipynb\n",
      "\u001b[32m[I 11:50:01.405 NotebookApp]\u001b(B\u001b[m Saving file at /data/FinalProj2_production.ipynb\n",
      "\u001b[32m[I 11:52:01.408 NotebookApp]\u001b(B\u001b[m Saving file at /data/FinalProj2_production.ipynb\n",
      "\u001b[32m[I 11:54:01.419 NotebookApp]\u001b(B\u001b[m Saving file at /data/FinalProj2_production.ipynb\n",
      "\u001b[32m[I 11:56:01.419 NotebookApp]\u001b(B\u001b[m Saving file at /data/FinalProj2_production.ipynb\n",
      "\u001b[32m[I 11:56:56.562 NotebookApp]\u001b(B\u001b[m Saving file at /data/FinalProj2_production.ipynb\n",
      "\u001b[32m[I 11:58:01.415 NotebookApp]\u001b(B\u001b[m Saving file at /data/FinalProj2_production.ipynb\n",
      "\u001b[32m[I 12:00:01.581 NotebookApp]\u001b(B\u001b[m Saving file at /data/FinalProj2_production.ipynb\n"
     ]
    },
    {
     "name": "stdout",
     "output_type": "stream",
     "text": [
      "\u001b[32m[I 12:02:01.533 NotebookApp]\u001b(B\u001b[m Saving file at /data/FinalProj2_production.ipynb\n",
      "\u001b[32m[I 12:03:38.066 NotebookApp]\u001b(B\u001b[m Saving file at /data/FinalProj2_production.ipynb\n",
      "2021-05-30 12:03:53.732777: W tensorflow/stream_executor/platform/default/dso_loader.cc:64] Could not load dynamic library 'libcuda.so.1'; dlerror: libcuda.so.1: cannot open shared object file: No such file or directory\n",
      "2021-05-30 12:03:53.732834: W tensorflow/stream_executor/cuda/cuda_driver.cc:326] failed call to cuInit: UNKNOWN ERROR (303)\n",
      "2021-05-30 12:03:53.732871: I tensorflow/stream_executor/cuda/cuda_diagnostics.cc:156] kernel driver does not appear to be running on this host (fd0aebf1446b): /proc/driver/nvidia/version does not exist\n",
      "2021-05-30 12:03:53.733147: I tensorflow/core/platform/cpu_feature_guard.cc:142] This TensorFlow binary is optimized with oneAPI Deep Neural Network Library (oneDNN) to use the following CPU instructions in performance-critical operations:  AVX2 FMA\n",
      "To enable them in other operations, rebuild TensorFlow with the appropriate compiler flags.\n",
      "2021-05-30 12:03:53.897542: I tensorflow/compiler/mlir/mlir_graph_optimization_pass.cc:176] None of the MLIR Optimization Passes are enabled (registered 2)\n",
      "2021-05-30 12:03:53.898044: I tensorflow/core/platform/profile_utils/cpu_utils.cc:114] CPU Frequency: 2400055000 Hz\n",
      "\u001b[32m[I 12:04:01.492 NotebookApp]\u001b(B\u001b[m Saving file at /data/FinalProj2_production.ipynb\n",
      "2021-05-30 12:05:44.154167: W tensorflow/python/util/util.cc:348] Sets are not currently considered sequences, but this may change in the future, so consider avoiding using them.\n",
      "\u001b[32m[I 12:06:01.541 NotebookApp]\u001b(B\u001b[m Saving file at /data/FinalProj2_production.ipynb\n",
      "\u001b[32m[I 12:06:58.714 NotebookApp]\u001b(B\u001b[m Saving file at /data/FinalProj2_production.ipynb\n",
      "\u001b[32m[I 12:08:01.575 NotebookApp]\u001b(B\u001b[m Saving file at /data/FinalProj2_production.ipynb\n",
      "\u001b[32m[I 12:12:01.585 NotebookApp]\u001b(B\u001b[m Saving file at /data/FinalProj2_production.ipynb\n",
      "\u001b[32m[I 12:20:01.619 NotebookApp]\u001b(B\u001b[m Saving file at /data/FinalProj2_production.ipynb\n",
      "\u001b[32m[I 12:22:01.579 NotebookApp]\u001b(B\u001b[m Saving file at /data/FinalProj2_production.ipynb\n",
      "\u001b[32m[I 12:24:01.623 NotebookApp]\u001b(B\u001b[m Saving file at /data/FinalProj2_production.ipynb\n",
      "\u001b[32m[I 12:24:51.010 NotebookApp]\u001b(B\u001b[m Saving file at /data/FinalProj2_production.ipynb\n",
      "\u001b[32m[I 12:25:16.195 NotebookApp]\u001b(B\u001b[m Saving file at /data/FinalProj2_production.ipynb\n",
      "\u001b[32m[I 12:26:01.544 NotebookApp]\u001b(B\u001b[m Saving file at /data/FinalProj2_production.ipynb\n",
      "\u001b[32m[I 12:26:34.462 NotebookApp]\u001b(B\u001b[m Saving file at /data/FinalProj2_production.ipynb\n",
      "\u001b[32m[I 12:28:01.576 NotebookApp]\u001b(B\u001b[m Saving file at /data/FinalProj2_production.ipynb\n",
      "\u001b[32m[I 12:30:01.631 NotebookApp]\u001b(B\u001b[m Saving file at /data/FinalProj2_production.ipynb\n",
      "\u001b[32m[I 12:30:59.092 NotebookApp]\u001b(B\u001b[m Saving file at /data/FinalProj2_production.ipynb\n",
      "\u001b[32m[I 12:31:31.584 NotebookApp]\u001b(B\u001b[m Saving file at /data/FinalProj2_production.ipynb\n",
      "\u001b[32m[I 12:32:44.264 NotebookApp]\u001b(B\u001b[m Saving file at /data/FinalProj2_production.ipynb\n",
      "\u001b[32m[I 12:33:07.380 NotebookApp]\u001b(B\u001b[m Saving file at /data/FinalProj2_production.ipynb\n",
      "\u001b[32m[I 12:34:01.630 NotebookApp]\u001b(B\u001b[m Saving file at /data/FinalProj2_production.ipynb\n",
      "\u001b[32m[I 12:36:01.620 NotebookApp]\u001b(B\u001b[m Saving file at /data/FinalProj2_production.ipynb\n",
      "\u001b[32m[I 12:38:01.459 NotebookApp]\u001b(B\u001b[m Saving file at /data/FinalProj2_production.ipynb\n",
      "\u001b[32m[I 12:40:01.463 NotebookApp]\u001b(B\u001b[m Saving file at /data/FinalProj2_production.ipynb\n",
      "\u001b[32m[I 12:40:50.548 NotebookApp]\u001b(B\u001b[m Saving file at /data/FinalProj2_production.ipynb\n",
      "\u001b[32m[I 12:41:18.159 NotebookApp]\u001b(B\u001b[m Saving file at /data/FinalProj2_production.ipynb\n",
      "\u001b[32m[I 12:41:37.974 NotebookApp]\u001b(B\u001b[m Kernel interrupted: d8a58f79-9162-4327-8ee2-a1d8b01e1ad6\n",
      "\u001b[32m[I 12:41:39.212 NotebookApp]\u001b(B\u001b[m Starting buffering for d8a58f79-9162-4327-8ee2-a1d8b01e1ad6:82dc3cef1d664d6a87dcb3bde42e15b6\n",
      "\u001b[32m[I 12:41:40.313 NotebookApp]\u001b(B\u001b[m Restoring connection for d8a58f79-9162-4327-8ee2-a1d8b01e1ad6:82dc3cef1d664d6a87dcb3bde42e15b6\n",
      "\u001b[32m[I 12:41:44.437 NotebookApp]\u001b(B\u001b[m Kernel interrupted: d8a58f79-9162-4327-8ee2-a1d8b01e1ad6\n",
      "\u001b[32m[I 12:41:56.260 NotebookApp]\u001b(B\u001b[m Kernel interrupted: d8a58f79-9162-4327-8ee2-a1d8b01e1ad6\n",
      "\u001b[32m[I 12:41:56.443 NotebookApp]\u001b(B\u001b[m Kernel interrupted: d8a58f79-9162-4327-8ee2-a1d8b01e1ad6\n",
      "\u001b[32m[I 12:41:56.672 NotebookApp]\u001b(B\u001b[m Kernel interrupted: d8a58f79-9162-4327-8ee2-a1d8b01e1ad6\n",
      "\u001b[32m[I 12:42:00.152 NotebookApp]\u001b(B\u001b[m Starting buffering for d8a58f79-9162-4327-8ee2-a1d8b01e1ad6:82dc3cef1d664d6a87dcb3bde42e15b6\n",
      "\u001b[32m[I 12:42:01.359 NotebookApp]\u001b(B\u001b[m Kernel restarted: d8a58f79-9162-4327-8ee2-a1d8b01e1ad6\n",
      "\u001b[32m[I 12:42:01.534 NotebookApp]\u001b(B\u001b[m Restoring connection for d8a58f79-9162-4327-8ee2-a1d8b01e1ad6:82dc3cef1d664d6a87dcb3bde42e15b6\n",
      "\u001b[32m[I 12:42:01.554 NotebookApp]\u001b(B\u001b[m Saving file at /data/FinalProj2_production.ipynb\n",
      "\u001b[32m[I 12:42:01.835 NotebookApp]\u001b(B\u001b[m Replaying 3 buffered messages\n",
      "2021-05-30 12:42:32.796765: W tensorflow/stream_executor/platform/default/dso_loader.cc:64] Could not load dynamic library 'libcudart.so.11.0'; dlerror: libcudart.so.11.0: cannot open shared object file: No such file or directory\n",
      "2021-05-30 12:42:32.796815: I tensorflow/stream_executor/cuda/cudart_stub.cc:29] Ignore above cudart dlerror if you do not have a GPU set up on your machine.\n",
      "2021-05-30 12:42:48.431664: W tensorflow/stream_executor/platform/default/dso_loader.cc:64] Could not load dynamic library 'libcuda.so.1'; dlerror: libcuda.so.1: cannot open shared object file: No such file or directory\n",
      "2021-05-30 12:42:48.431732: W tensorflow/stream_executor/cuda/cuda_driver.cc:326] failed call to cuInit: UNKNOWN ERROR (303)\n",
      "2021-05-30 12:42:48.431777: I tensorflow/stream_executor/cuda/cuda_diagnostics.cc:156] kernel driver does not appear to be running on this host (fd0aebf1446b): /proc/driver/nvidia/version does not exist\n",
      "2021-05-30 12:42:48.432013: I tensorflow/core/platform/cpu_feature_guard.cc:142] This TensorFlow binary is optimized with oneAPI Deep Neural Network Library (oneDNN) to use the following CPU instructions in performance-critical operations:  AVX2 FMA\n",
      "To enable them in other operations, rebuild TensorFlow with the appropriate compiler flags.\n",
      "2021-05-30 12:42:48.614811: I tensorflow/compiler/mlir/mlir_graph_optimization_pass.cc:176] None of the MLIR Optimization Passes are enabled (registered 2)\n",
      "2021-05-30 12:42:48.616049: I tensorflow/core/platform/profile_utils/cpu_utils.cc:114] CPU Frequency: 2400055000 Hz\n",
      "\u001b[32m[I 12:44:01.556 NotebookApp]\u001b(B\u001b[m Saving file at /data/FinalProj2_production.ipynb\n",
      "2021-05-30 12:44:12.086278: W tensorflow/python/util/util.cc:348] Sets are not currently considered sequences, but this may change in the future, so consider avoiding using them.\n",
      "\u001b[32m[I 12:46:01.550 NotebookApp]\u001b(B\u001b[m Saving file at /data/FinalProj2_production.ipynb\n",
      "\u001b[32m[I 12:48:01.488 NotebookApp]\u001b(B\u001b[m Saving file at /data/FinalProj2_production.ipynb\n",
      "\u001b[32m[I 12:48:22.284 NotebookApp]\u001b(B\u001b[m Saving file at /data/FinalProj2_production.ipynb\n",
      "\u001b[32m[I 12:50:01.614 NotebookApp]\u001b(B\u001b[m Saving file at /data/FinalProj2_production.ipynb\n"
     ]
    }
   ],
   "source": [
    "!sudo docker run -i -t -p 8886:8886 -v /home/ubuntu/notebooks/JacobD/JD_FinalProj2:/opt/notebooks/data continuumio/miniconda3 /bin/bash -c \"/opt/conda/bin/conda install jupyter -y --quiet && /opt/conda/bin/jupyter notebook --notebook-dir=/opt/notebooks --ip='*' --port=8886 --no-browser --allow-root\""
   ]
  },
  {
   "cell_type": "code",
   "execution_count": null,
   "id": "734d7478",
   "metadata": {},
   "outputs": [],
   "source": []
  }
 ],
 "metadata": {
  "kernelspec": {
   "display_name": "Python 3",
   "language": "python",
   "name": "python3"
  },
  "language_info": {
   "codemirror_mode": {
    "name": "ipython",
    "version": 3
   },
   "file_extension": ".py",
   "mimetype": "text/x-python",
   "name": "python",
   "nbconvert_exporter": "python",
   "pygments_lexer": "ipython3",
   "version": "3.8.5"
  }
 },
 "nbformat": 4,
 "nbformat_minor": 5
}
