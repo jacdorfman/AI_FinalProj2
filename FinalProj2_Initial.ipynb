{
 "cells": [
  {
   "cell_type": "code",
   "execution_count": 10,
   "id": "62c1f42c",
   "metadata": {},
   "outputs": [],
   "source": [
    "import pandas as pd\n",
    "import numpy as np\n",
    "import os\n",
    "\n",
    "from tensorflow.keras import models\n",
    "from tensorflow.keras.layers import Dense, Dropout, Flatten, Conv2D, MaxPool2D\n",
    "from tensorflow.keras.optimizers import RMSprop,Adam\n",
    "from tensorflow.keras.utils import to_categorical\n",
    "\n",
    "\n",
    "raw_data_path = 'raw_data/'\n",
    "\n",
    "def create_model():\n",
    "    model = models.Sequential()\n",
    "    model.add(Conv2D(32, (3, 3), activation='relu', input_shape=(48, 48, 1)))\n",
    "    model.add(MaxPool2D((2, 2)))\n",
    "    model.add(Conv2D(64, (3, 3), activation='relu'))\n",
    "    model.add(MaxPool2D((2, 2)))\n",
    "    model.add(Conv2D(64, (3, 3), activation='relu'))\n",
    "    model.add(Flatten())\n",
    "    model.add(Dense(64, activation='relu'))\n",
    "    model.add(Dense(7, activation='softmax'))\n",
    "    model.compile(optimizer=Adam(lr=1e-3), loss='categorical_crossentropy', metrics=['accuracy'])\n",
    "    return model\n",
    "\n",
    "\n",
    "def prepare_data(data):\n",
    "    \"\"\" Prepare data for modeling \n",
    "        input: data frame with labels und pixel data\n",
    "        output: image and label array \"\"\"\n",
    "    \n",
    "    image_array = np.zeros(shape=(len(data), 48, 48))\n",
    "    image_label = np.array(list(map(int, data['Emotion'])))\n",
    "    \n",
    "    for i, row in enumerate(data.index):\n",
    "        image = np.fromstring(data.loc[row, 'Pixels'], dtype=int, sep=' ')\n",
    "        image = np.reshape(image, (48, 48))\n",
    "        image_array[i] = image\n",
    "        \n",
    "    return image_array, image_label\n",
    "\n",
    "\n",
    "def data_to_tf_data(df):\n",
    "    image_array, image_label = prepare_data(df)\n",
    "    images = image_array.reshape((image_array.shape[0], 48, 48, 1))\n",
    "    images = images.astype('float32')/255\n",
    "    labels = to_categorical(image_label)\n",
    "    return images, labels\n"
   ]
  },
  {
   "cell_type": "code",
   "execution_count": 11,
   "id": "07b182d6",
   "metadata": {},
   "outputs": [
    {
     "name": "stdout",
     "output_type": "stream",
     "text": [
      "WARNING:tensorflow:From /usr/local/lib/python3.8/dist-packages/tensorflow/python/ops/array_ops.py:5043: calling gather (from tensorflow.python.ops.array_ops) with validate_indices is deprecated and will be removed in a future version.\n",
      "Instructions for updating:\n",
      "The `validate_indices` argument has no effect. Indices are always validated on CPU and never validated on GPU.\n"
     ]
    },
    {
     "name": "stderr",
     "output_type": "stream",
     "text": [
      "/usr/local/lib/python3.8/dist-packages/tensorflow/python/keras/optimizer_v2/optimizer_v2.py:374: UserWarning: The `lr` argument is deprecated, use `learning_rate` instead.\n",
      "  warnings.warn(\n"
     ]
    },
    {
     "name": "stdout",
     "output_type": "stream",
     "text": [
      "Epoch 1/12\n",
      "6/6 [==============================] - 2s 254ms/step - loss: 0.3299 - accuracy: 0.2586 - val_loss: 1.9917 - val_accuracy: 0.2449\n",
      "Epoch 2/12\n",
      "6/6 [==============================] - 1s 212ms/step - loss: 0.3110 - accuracy: 0.2835 - val_loss: 1.8542 - val_accuracy: 0.2449\n",
      "Epoch 3/12\n",
      "6/6 [==============================] - 1s 212ms/step - loss: 0.3238 - accuracy: 0.2835 - val_loss: 1.8531 - val_accuracy: 0.2449\n",
      "Epoch 4/12\n",
      "6/6 [==============================] - 1s 210ms/step - loss: 0.3056 - accuracy: 0.2835 - val_loss: 2.0688 - val_accuracy: 0.2449\n",
      "Epoch 5/12\n",
      "6/6 [==============================] - 1s 212ms/step - loss: 0.3013 - accuracy: 0.2835 - val_loss: 2.0192 - val_accuracy: 0.2449\n",
      "Epoch 6/12\n",
      "6/6 [==============================] - 1s 211ms/step - loss: 0.2988 - accuracy: 0.2835 - val_loss: 2.0279 - val_accuracy: 0.2449\n",
      "Epoch 7/12\n",
      "6/6 [==============================] - 1s 209ms/step - loss: 0.2947 - accuracy: 0.2835 - val_loss: 1.9224 - val_accuracy: 0.2449\n",
      "Epoch 8/12\n",
      "6/6 [==============================] - 1s 212ms/step - loss: 0.2945 - accuracy: 0.2835 - val_loss: 1.8912 - val_accuracy: 0.2449\n",
      "Epoch 9/12\n",
      "6/6 [==============================] - 1s 213ms/step - loss: 0.2972 - accuracy: 0.2835 - val_loss: 1.9506 - val_accuracy: 0.2449\n",
      "Epoch 10/12\n",
      "6/6 [==============================] - 1s 213ms/step - loss: 0.3014 - accuracy: 0.2835 - val_loss: 2.1731 - val_accuracy: 0.2449\n",
      "Epoch 11/12\n",
      "6/6 [==============================] - 1s 218ms/step - loss: 0.3044 - accuracy: 0.2835 - val_loss: 1.9387 - val_accuracy: 0.2449\n",
      "Epoch 12/12\n",
      "6/6 [==============================] - 1s 211ms/step - loss: 0.2986 - accuracy: 0.2866 - val_loss: 1.8303 - val_accuracy: 0.2452\n",
      "113/113 [==============================] - 1s 8ms/step - loss: 1.8262 - accuracy: 0.2491\n"
     ]
    }
   ],
   "source": [
    "train = pd.read_csv(raw_data_path+'initial_training_data.csv')\n",
    "train_images, train_labels = data_to_tf_data(train)\n",
    "\n",
    "val = pd.read_csv(raw_data_path+'validation_test_data.csv')\n",
    "val_images, val_labels = data_to_tf_data(val)\n",
    "\n",
    "\n",
    "model = create_model()\n",
    "class_weight = dict(zip(range(0, 7), (((train['Emotion'].value_counts()).sort_index())/len(train['Emotion'])).tolist()))\n",
    "history = model.fit(train_images, train_labels,\n",
    "                    validation_data=(val_images, val_labels),\n",
    "                    class_weight = class_weight,\n",
    "                    epochs=12,\n",
    "                    batch_size=64)\n",
    "\n",
    "df = pd.read_csv(raw_data_path+'test_data.csv')\n",
    "test_images, test_labels = data_to_tf_data(df)\n",
    "test_loss, test_acc = model.evaluate(test_images, test_labels)\n"
   ]
  },
  {
   "cell_type": "code",
   "execution_count": 12,
   "id": "da82af05",
   "metadata": {},
   "outputs": [
    {
     "name": "stdout",
     "output_type": "stream",
     "text": [
      "INFO:tensorflow:Assets written to: initial_model/assets\n"
     ]
    }
   ],
   "source": [
    "from tensorflow import keras\n",
    "\n",
    "model.save(\"initial_model\")\n"
   ]
  },
  {
   "cell_type": "code",
   "execution_count": 13,
   "id": "a4ea2feb",
   "metadata": {},
   "outputs": [],
   "source": [
    "import os\n",
    "from mlflow import log_metric, log_param, log_artifacts\n",
    "import mlflow\n"
   ]
  },
  {
   "cell_type": "code",
   "execution_count": 14,
   "id": "9e75f727",
   "metadata": {},
   "outputs": [],
   "source": [
    "mlflow.create_experiment('FinalProj2_initial')\n",
    "mlflow.set_experiment('FinalProj2_initial')"
   ]
  },
  {
   "cell_type": "code",
   "execution_count": 15,
   "id": "4d208248",
   "metadata": {},
   "outputs": [
    {
     "name": "stdout",
     "output_type": "stream",
     "text": [
      "Initialized empty Git repository in /home/ubuntu/notebooks/JacobD/JD_FinalProj2/.git/\r\n"
     ]
    }
   ],
   "source": [
    "!git init"
   ]
  },
  {
   "cell_type": "code",
   "execution_count": 16,
   "id": "3734d498",
   "metadata": {},
   "outputs": [
    {
     "name": "stdout",
     "output_type": "stream",
     "text": [
      "Initialized DVC repository.\n",
      "\n",
      "You can now commit the changes to git.\n",
      "\n",
      "\u001b[31m+---------------------------------------------------------------------+\n",
      "\u001b[0m\u001b[31m|\u001b[0m                                                                     \u001b[31m|\u001b[0m\n",
      "\u001b[31m|\u001b[0m        DVC has enabled anonymous aggregate usage analytics.         \u001b[31m|\u001b[0m\n",
      "\u001b[31m|\u001b[0m     Read the analytics documentation (and how to opt-out) here:     \u001b[31m|\u001b[0m\n",
      "\u001b[31m|\u001b[0m             <\u001b[36mhttps://dvc.org/doc/user-guide/analytics\u001b[39m>              \u001b[31m|\u001b[0m\n",
      "\u001b[31m|\u001b[0m                                                                     \u001b[31m|\u001b[0m\n",
      "\u001b[31m+---------------------------------------------------------------------+\n",
      "\u001b[0m\n",
      "\u001b[33mWhat's next?\u001b[39m\n",
      "\u001b[33m------------\u001b[39m\n",
      "- Check out the documentation: <\u001b[36mhttps://dvc.org/doc\u001b[39m>\n",
      "- Get help and share ideas: <\u001b[36mhttps://dvc.org/chat\u001b[39m>\n",
      "- Star us on GitHub: <\u001b[36mhttps://github.com/iterative/dvc\u001b[39m>\n",
      "\u001b[0m"
     ]
    }
   ],
   "source": [
    "!dvc init"
   ]
  },
  {
   "cell_type": "code",
   "execution_count": 17,
   "id": "50c5d769",
   "metadata": {},
   "outputs": [
    {
     "name": "stdout",
     "output_type": "stream",
     "text": [
      "On branch master\r\n",
      "\r\n",
      "No commits yet\r\n",
      "\r\n",
      "Changes to be committed:\r\n",
      "  (use \"git rm --cached <file>...\" to unstage)\r\n",
      "\t\u001b[32mnew file:   .dvc/.gitignore\u001b[m\r\n",
      "\t\u001b[32mnew file:   .dvc/config\u001b[m\r\n",
      "\t\u001b[32mnew file:   .dvc/plots/confusion.json\u001b[m\r\n",
      "\t\u001b[32mnew file:   .dvc/plots/confusion_normalized.json\u001b[m\r\n",
      "\t\u001b[32mnew file:   .dvc/plots/default.json\u001b[m\r\n",
      "\t\u001b[32mnew file:   .dvc/plots/linear.json\u001b[m\r\n",
      "\t\u001b[32mnew file:   .dvc/plots/scatter.json\u001b[m\r\n",
      "\t\u001b[32mnew file:   .dvc/plots/smooth.json\u001b[m\r\n",
      "\t\u001b[32mnew file:   .dvcignore\u001b[m\r\n",
      "\r\n",
      "Untracked files:\r\n",
      "  (use \"git add <file>...\" to include in what will be committed)\r\n",
      "\t\u001b[31m.ipynb_checkpoints/\u001b[m\r\n",
      "\t\u001b[31mFinalProj2_Initial.ipynb\u001b[m\r\n",
      "\t\u001b[31minitial_model/\u001b[m\r\n",
      "\t\u001b[31mmlruns/\u001b[m\r\n",
      "\t\u001b[31mraw_data/\u001b[m\r\n",
      "\t\u001b[31mtrain_model.py\u001b[m\r\n",
      "\t\u001b[31mtrain_model_2.py\u001b[m\r\n",
      "\r\n"
     ]
    }
   ],
   "source": [
    "!git status"
   ]
  }
 ],
 "metadata": {
  "kernelspec": {
   "display_name": "Python 3",
   "language": "python",
   "name": "python3"
  },
  "language_info": {
   "codemirror_mode": {
    "name": "ipython",
    "version": 3
   },
   "file_extension": ".py",
   "mimetype": "text/x-python",
   "name": "python",
   "nbconvert_exporter": "python",
   "pygments_lexer": "ipython3",
   "version": "3.8.5"
  }
 },
 "nbformat": 4,
 "nbformat_minor": 5
}
